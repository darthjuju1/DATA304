{
 "cells": [
  {
   "cell_type": "code",
   "execution_count": 4,
   "id": "4a6a0dc4",
   "metadata": {},
   "outputs": [],
   "source": [
    "from pinecone import Pinecone\n",
    "\n",
    "pc = Pinecone(api_key=\"pcsk_3aTBe3_QBE6WK7Q97V5Rb7VrAtrwDUFpVGzaNhHxNgJgwSqJduuQAE7bt2SQgmRxaPGG1Y\") # \"New API key as of 4/18/2025\"\n",
    "\n",
    "index = pc.Index(name=\"reddit-shopper\", host=\"https://reddit-shopper-thxz7zo.svc.aped-4627-b74a.pinecone.io\")  # the name you gave it\n"
   ]
  },
  {
   "cell_type": "code",
   "execution_count": 27,
   "id": "c3ed08c8",
   "metadata": {},
   "outputs": [
    {
     "name": "stdout",
     "output_type": "stream",
     "text": [
      "{'result': {'hits': [{'_id': 'rec281',\n",
      "                      '_score': 0.06804041564464569,\n",
      "                      'fields': {'category': 'I Just Biked Across the Bolivian '\n",
      "                                             'Altiplano',\n",
      "                                 'chunk_text': 'Beauty'}},\n",
      "                     {'_id': 'rec1022',\n",
      "                      '_score': 0.056861549615859985,\n",
      "                      'fields': {'category': 'Dead Vlei Namibia. Believe me or '\n",
      "                                             'not but I hitchhiked to this '\n",
      "                                             'place back in 2017',\n",
      "                                 'chunk_text': 'Furiosa'}}]},\n",
      " 'usage': {'embed_total_tokens': 4, 'read_units': 6, 'rerank_units': 1}}\n"
     ]
    }
   ],
   "source": [
    "search_with_text = index.search(\n",
    "    namespace=\"reddit-namespace\", \n",
    "    query={\n",
    "        \"inputs\": {\"text\": \"mother\"}, \n",
    "        \"top_k\": 4\n",
    "    },\n",
    "    fields=[\"category\", \"chunk_text\"],\n",
    "    rerank={\n",
    "        \"model\": \"bge-reranker-v2-m3\",\n",
    "        \"top_n\": 2,\n",
    "        \"rank_fields\": [\"chunk_text\"] # Specified field must also be included in 'fields'\n",
    "    }\n",
    ")\n",
    "\n",
    "print(search_with_text)"
   ]
  },
  {
   "cell_type": "code",
   "execution_count": null,
   "id": "0ec1a91a",
   "metadata": {},
   "outputs": [
    {
     "name": "stdout",
     "output_type": "stream",
     "text": [
      "Overwriting app.py\n"
     ]
    }
   ],
   "source": [
    "%%writefile test_app.py\n",
    "from pinecone import Pinecone\n",
    "import streamlit as st\n",
    "\n",
    "# Init Pinecone\n",
    "pc = Pinecone(api_key=\"pcsk_3aTBe3_QBE6WK7Q97V5Rb7VrAtrwDUFpVGzaNhHxNgJgwSqJduuQAE7bt2SQgmRxaPGG1Y\")\n",
    "index = pc.Index(\"reddit-shopper\")\n",
    "\n",
    "# Streamlit UI\n",
    "st.title(\"📘 Semantic Reddit Comment Search\")\n",
    "\n",
    "query = st.text_input(\"Search for a product or experience\", \"mountain\")\n",
    "\n",
    "if st.button(\"Search\"):\n",
    "    try:\n",
    "        search_with_text = index.search(\n",
    "            namespace=\"reddit-namespace\",\n",
    "            query={\n",
    "                \"inputs\": {\"text\": query},\n",
    "                \"top_k\": 5\n",
    "            },\n",
    "            fields=[\"category\", \"chunk_text\"],\n",
    "            rerank={\n",
    "                \"model\": \"bge-reranker-v2-m3\",\n",
    "                \"top_n\": 3,\n",
    "                \"rank_fields\": [\"chunk_text\"]\n",
    "            }\n",
    "        )\n",
    "\n",
    "        results = search_with_text.result.get(\"hits\", [])\n",
    "        if not results:\n",
    "            st.warning(\"No results found.\")\n",
    "        else:\n",
    "            st.subheader(\"🔍 Top Matching Comments\")\n",
    "            for item in results:\n",
    "                fields = item.get(\"fields\", {})\n",
    "                st.markdown(f\"**Score:** {item['_score']:.3f}\")\n",
    "                st.markdown(f\"**Category:** {fields.get('category', 'N/A')}\")\n",
    "                st.markdown(f\"**Comment:** {fields.get('chunk_text', 'No text found')}\")\n",
    "                st.markdown(\"---\")\n",
    "\n",
    "    except Exception as e:\n",
    "        st.error(f\"Search error: {e}\")\n",
    "\n",
    "\n"
   ]
  },
  {
   "cell_type": "code",
   "execution_count": 33,
   "id": "207ca75b",
   "metadata": {},
   "outputs": [
    {
     "name": "stdout",
     "output_type": "stream",
     "text": [
      "^C\n"
     ]
    }
   ],
   "source": [
    "!streamlit run app.py\n"
   ]
  },
  {
   "cell_type": "code",
   "execution_count": null,
   "id": "49903b9d",
   "metadata": {},
   "outputs": [],
   "source": []
  }
 ],
 "metadata": {
  "kernelspec": {
   "display_name": "Python (lyrics-env)",
   "language": "python",
   "name": "lyrics-env"
  },
  "language_info": {
   "codemirror_mode": {
    "name": "ipython",
    "version": 3
   },
   "file_extension": ".py",
   "mimetype": "text/x-python",
   "name": "python",
   "nbconvert_exporter": "python",
   "pygments_lexer": "ipython3",
   "version": "3.10.11"
  }
 },
 "nbformat": 4,
 "nbformat_minor": 5
}
