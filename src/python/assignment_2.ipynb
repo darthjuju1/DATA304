{
 "cells": [
  {
   "cell_type": "code",
   "execution_count": 16,
   "metadata": {},
   "outputs": [
    {
     "data": {
      "text/plain": [
       "'Sometimes, life surprises us with unexpected adventures. On sunny days, people often stroll through parks, chatting joyfully. However, when it rains, umbrellas bloom like colorful mushrooms. At noon, cafés fill with the aroma of coffee! Cats often nap lazily on windowsills, yet indifferent to the world outside. Meanwhile, students, lost in thought, scribble notes quickly. Between classes, laughter echoes in hallways. Words carry weight, but silence speaks volumes. Happiness is found in small, everyday moments. Bright stars dot the night sky, whispering secrets to those who listen closely.'"
      ]
     },
     "execution_count": 16,
     "metadata": {},
     "output_type": "execute_result"
    }
   ],
   "source": [
    "with open('paragraph.txt', 'r') as file:\n",
    "    full_str = file.read()\n",
    "\n",
    "full_str\n"
   ]
  },
  {
   "cell_type": "code",
   "execution_count": 17,
   "metadata": {},
   "outputs": [
    {
     "data": {
      "text/plain": [
       "['Sometimes, life surprises us with unexpected adventures',\n",
       " 'On sunny days, people often stroll through parks, chatting joyfully',\n",
       " 'However, when it rains, umbrellas bloom like colorful mushrooms',\n",
       " 'At noon, cafés fill with the aroma of coffee! Cats often nap lazily on windowsills, yet indifferent to the world outside',\n",
       " 'Meanwhile, students, lost in thought, scribble notes quickly',\n",
       " 'Between classes, laughter echoes in hallways',\n",
       " 'Words carry weight, but silence speaks volumes',\n",
       " 'Happiness is found in small, everyday moments',\n",
       " 'Bright stars dot the night sky, whispering secrets to those who listen closely.']"
      ]
     },
     "execution_count": 17,
     "metadata": {},
     "output_type": "execute_result"
    }
   ],
   "source": [
    "full_str\n",
    "sentence_list = full_str.split('. ')\n",
    "sentence_list"
   ]
  },
  {
   "cell_type": "code",
   "execution_count": 35,
   "metadata": {},
   "outputs": [
    {
     "data": {
      "text/plain": [
       "['Sometimes',\n",
       " 'life',\n",
       " 'surprises',\n",
       " 'us',\n",
       " 'with',\n",
       " 'unexpected',\n",
       " 'adventures',\n",
       " 'On',\n",
       " 'sunny',\n",
       " 'days',\n",
       " 'people',\n",
       " 'often',\n",
       " 'stroll',\n",
       " 'through',\n",
       " 'parks',\n",
       " 'chatting',\n",
       " 'joyfully',\n",
       " 'However',\n",
       " 'when',\n",
       " 'it',\n",
       " 'rains',\n",
       " 'umbrellas',\n",
       " 'bloom',\n",
       " 'like',\n",
       " 'colorful',\n",
       " 'mushrooms',\n",
       " 'At',\n",
       " 'noon',\n",
       " 'cafés',\n",
       " 'fill',\n",
       " 'with',\n",
       " 'the',\n",
       " 'aroma',\n",
       " 'of',\n",
       " 'coffee',\n",
       " 'Cats',\n",
       " 'often',\n",
       " 'nap',\n",
       " 'lazily',\n",
       " 'on',\n",
       " 'windowsills',\n",
       " 'yet',\n",
       " 'indifferent',\n",
       " 'to',\n",
       " 'the',\n",
       " 'world',\n",
       " 'outside',\n",
       " 'Meanwhile',\n",
       " 'students',\n",
       " 'lost',\n",
       " 'in',\n",
       " 'thought',\n",
       " 'scribble',\n",
       " 'notes',\n",
       " 'quickly',\n",
       " 'Between',\n",
       " 'classes',\n",
       " 'laughter',\n",
       " 'echoes',\n",
       " 'in',\n",
       " 'hallways',\n",
       " 'Words',\n",
       " 'carry',\n",
       " 'weight',\n",
       " 'but',\n",
       " 'silence',\n",
       " 'speaks',\n",
       " 'volumes',\n",
       " 'Happiness',\n",
       " 'is',\n",
       " 'found',\n",
       " 'in',\n",
       " 'small',\n",
       " 'everyday',\n",
       " 'moments',\n",
       " 'Bright',\n",
       " 'stars',\n",
       " 'dot',\n",
       " 'the',\n",
       " 'night',\n",
       " 'sky',\n",
       " 'whispering',\n",
       " 'secrets',\n",
       " 'to',\n",
       " 'those',\n",
       " 'who',\n",
       " 'listen',\n",
       " 'closely']"
      ]
     },
     "execution_count": 35,
     "metadata": {},
     "output_type": "execute_result"
    }
   ],
   "source": [
    "word_list = []\n",
    "word=''\n",
    "for char in full_str:\n",
    "    if char.isalpha()==True: #only selects alphabetic characters\n",
    "        word+=char\n",
    "    elif word:\n",
    "        word_list.append(word)\n",
    "        word=''\n",
    "if word:\n",
    "    word_list.append(word)\n",
    "\n",
    "word_list"
   ]
  },
  {
   "cell_type": "code",
   "execution_count": 33,
   "metadata": {},
   "outputs": [
    {
     "data": {
      "text/plain": [
       "{'At',\n",
       " 'Between',\n",
       " 'Bright',\n",
       " 'Cats',\n",
       " 'Happiness',\n",
       " 'However',\n",
       " 'Meanwhile',\n",
       " 'On',\n",
       " 'Sometimes',\n",
       " 'Words',\n",
       " 'adventures',\n",
       " 'aroma',\n",
       " 'bloom',\n",
       " 'but',\n",
       " 'cafés',\n",
       " 'carry',\n",
       " 'chatting',\n",
       " 'classes',\n",
       " 'closely',\n",
       " 'coffee',\n",
       " 'colorful',\n",
       " 'days',\n",
       " 'dot',\n",
       " 'echoes',\n",
       " 'everyday',\n",
       " 'fill',\n",
       " 'found',\n",
       " 'hallways',\n",
       " 'in',\n",
       " 'indifferent',\n",
       " 'is',\n",
       " 'it',\n",
       " 'joyfully',\n",
       " 'laughter',\n",
       " 'lazily',\n",
       " 'life',\n",
       " 'like',\n",
       " 'listen',\n",
       " 'lost',\n",
       " 'moments',\n",
       " 'mushrooms',\n",
       " 'nap',\n",
       " 'night',\n",
       " 'noon',\n",
       " 'notes',\n",
       " 'of',\n",
       " 'often',\n",
       " 'on',\n",
       " 'outside',\n",
       " 'parks',\n",
       " 'people',\n",
       " 'quickly',\n",
       " 'rains',\n",
       " 'scribble',\n",
       " 'secrets',\n",
       " 'silence',\n",
       " 'sky',\n",
       " 'small',\n",
       " 'speaks',\n",
       " 'stars',\n",
       " 'stroll',\n",
       " 'students',\n",
       " 'sunny',\n",
       " 'surprises',\n",
       " 'the',\n",
       " 'those',\n",
       " 'thought',\n",
       " 'through',\n",
       " 'to',\n",
       " 'umbrellas',\n",
       " 'unexpected',\n",
       " 'us',\n",
       " 'volumes',\n",
       " 'weight',\n",
       " 'when',\n",
       " 'whispering',\n",
       " 'who',\n",
       " 'windowsills',\n",
       " 'with',\n",
       " 'world',\n",
       " 'yet'}"
      ]
     },
     "execution_count": 33,
     "metadata": {},
     "output_type": "execute_result"
    }
   ],
   "source": [
    "word_set = set(word_list)\n",
    "word_set\n"
   ]
  },
  {
   "cell_type": "code",
   "execution_count": 44,
   "metadata": {},
   "outputs": [
    {
     "data": {
      "text/plain": [
       "'hAppyCAts'"
      ]
     },
     "execution_count": 44,
     "metadata": {},
     "output_type": "execute_result"
    }
   ],
   "source": [
    "index_list = [60, 26, 10, 10, 41, 35, 26, 44,48]\n",
    "\n",
    "hidden_word_list = [word_list[val][0] for val in index_list]\n",
    "hidden_word = ''.join(hidden_word_list)\n",
    "hidden_word"
   ]
  },
  {
   "cell_type": "code",
   "execution_count": null,
   "metadata": {},
   "outputs": [],
   "source": []
  }
 ],
 "metadata": {
  "kernelspec": {
   "display_name": "base",
   "language": "python",
   "name": "python3"
  },
  "language_info": {
   "codemirror_mode": {
    "name": "ipython",
    "version": 3
   },
   "file_extension": ".py",
   "mimetype": "text/x-python",
   "name": "python",
   "nbconvert_exporter": "python",
   "pygments_lexer": "ipython3",
   "version": "3.11.7"
  }
 },
 "nbformat": 4,
 "nbformat_minor": 2
}
