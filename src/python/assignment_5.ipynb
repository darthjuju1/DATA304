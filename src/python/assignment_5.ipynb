{
 "cells": [
  {
   "cell_type": "code",
   "execution_count": 63,
   "id": "375b4ad5",
   "metadata": {},
   "outputs": [],
   "source": [
    "import pandas as pd"
   ]
  },
  {
   "cell_type": "markdown",
   "id": "a980fc16",
   "metadata": {},
   "source": [
    "Filter and Prep Data"
   ]
  },
  {
   "cell_type": "code",
   "execution_count": 64,
   "id": "424ea3c9",
   "metadata": {},
   "outputs": [],
   "source": [
    "#1.\n",
    "\n",
    "catalog = pd.read_csv(r\"C:\\Users\\jnaid\\demo_test\\data_wrangling_304\\data\\assignment_5\\course_catalog_by_major.csv\")\n",
    "pathways = pd.read_csv(r\"C:\\Users\\jnaid\\demo_test\\data_wrangling_304\\data\\assignment_5\\course_pathways.csv\")"
   ]
  },
  {
   "cell_type": "code",
   "execution_count": 65,
   "id": "fc409d44",
   "metadata": {},
   "outputs": [
    {
     "data": {
      "text/html": [
       "<div>\n",
       "<style scoped>\n",
       "    .dataframe tbody tr th:only-of-type {\n",
       "        vertical-align: middle;\n",
       "    }\n",
       "\n",
       "    .dataframe tbody tr th {\n",
       "        vertical-align: top;\n",
       "    }\n",
       "\n",
       "    .dataframe thead th {\n",
       "        text-align: right;\n",
       "    }\n",
       "</style>\n",
       "<table border=\"1\" class=\"dataframe\">\n",
       "  <thead>\n",
       "    <tr style=\"text-align: right;\">\n",
       "      <th></th>\n",
       "      <th>StudentID</th>\n",
       "      <th>Program</th>\n",
       "      <th>Major</th>\n",
       "      <th>CoursePath</th>\n",
       "    </tr>\n",
       "  </thead>\n",
       "  <tbody>\n",
       "    <tr>\n",
       "      <th>80</th>\n",
       "      <td>S081</td>\n",
       "      <td>CECS</td>\n",
       "      <td>Data science</td>\n",
       "      <td>Intro to Python -&gt; Statistics I -&gt; Linear Alge...</td>\n",
       "    </tr>\n",
       "    <tr>\n",
       "      <th>81</th>\n",
       "      <td>S082</td>\n",
       "      <td>CECS</td>\n",
       "      <td>Data science</td>\n",
       "      <td>Intro to Python -&gt; Statistics I -&gt; Linear Alge...</td>\n",
       "    </tr>\n",
       "    <tr>\n",
       "      <th>82</th>\n",
       "      <td>S083</td>\n",
       "      <td>CECS</td>\n",
       "      <td>Data science</td>\n",
       "      <td>Intro to Python -&gt; Statistics I -&gt; Linear Alge...</td>\n",
       "    </tr>\n",
       "    <tr>\n",
       "      <th>83</th>\n",
       "      <td>S084</td>\n",
       "      <td>CECS</td>\n",
       "      <td>Data science</td>\n",
       "      <td>Intro to Python -&gt; Statistics I -&gt; Linear Alge...</td>\n",
       "    </tr>\n",
       "    <tr>\n",
       "      <th>84</th>\n",
       "      <td>S085</td>\n",
       "      <td>CECS</td>\n",
       "      <td>Data science</td>\n",
       "      <td>Intro to Python -&gt; Statistics I -&gt; Linear Alge...</td>\n",
       "    </tr>\n",
       "    <tr>\n",
       "      <th>...</th>\n",
       "      <td>...</td>\n",
       "      <td>...</td>\n",
       "      <td>...</td>\n",
       "      <td>...</td>\n",
       "    </tr>\n",
       "    <tr>\n",
       "      <th>195</th>\n",
       "      <td>S196</td>\n",
       "      <td>CECS</td>\n",
       "      <td>Cybersecurity</td>\n",
       "      <td>Intro to Cybersecurity -&gt; Computer Networks -&gt;...</td>\n",
       "    </tr>\n",
       "    <tr>\n",
       "      <th>196</th>\n",
       "      <td>S197</td>\n",
       "      <td>CECS</td>\n",
       "      <td>Cybersecurity</td>\n",
       "      <td>Intro to Cybersecurity -&gt; Computer Networks -&gt;...</td>\n",
       "    </tr>\n",
       "    <tr>\n",
       "      <th>197</th>\n",
       "      <td>S198</td>\n",
       "      <td>CECS</td>\n",
       "      <td>Cybersecurity</td>\n",
       "      <td>Intro to Cybersecurity -&gt; Computer Networks -&gt;...</td>\n",
       "    </tr>\n",
       "    <tr>\n",
       "      <th>198</th>\n",
       "      <td>S199</td>\n",
       "      <td>CECS</td>\n",
       "      <td>Cybersecurity</td>\n",
       "      <td>Intro to Cybersecurity -&gt; Computer Networks -&gt;...</td>\n",
       "    </tr>\n",
       "    <tr>\n",
       "      <th>199</th>\n",
       "      <td>S200</td>\n",
       "      <td>CECS</td>\n",
       "      <td>Cybersecurity</td>\n",
       "      <td>Intro to Cybersecurity -&gt; Computer Networks -&gt;...</td>\n",
       "    </tr>\n",
       "  </tbody>\n",
       "</table>\n",
       "<p>120 rows × 4 columns</p>\n",
       "</div>"
      ],
      "text/plain": [
       "    StudentID Program          Major  \\\n",
       "80       S081    CECS   Data science   \n",
       "81       S082    CECS   Data science   \n",
       "82       S083    CECS   Data science   \n",
       "83       S084    CECS   Data science   \n",
       "84       S085    CECS   Data science   \n",
       "..        ...     ...            ...   \n",
       "195      S196    CECS  Cybersecurity   \n",
       "196      S197    CECS  Cybersecurity   \n",
       "197      S198    CECS  Cybersecurity   \n",
       "198      S199    CECS  Cybersecurity   \n",
       "199      S200    CECS  Cybersecurity   \n",
       "\n",
       "                                            CoursePath  \n",
       "80   Intro to Python -> Statistics I -> Linear Alge...  \n",
       "81   Intro to Python -> Statistics I -> Linear Alge...  \n",
       "82   Intro to Python -> Statistics I -> Linear Alge...  \n",
       "83   Intro to Python -> Statistics I -> Linear Alge...  \n",
       "84   Intro to Python -> Statistics I -> Linear Alge...  \n",
       "..                                                 ...  \n",
       "195  Intro to Cybersecurity -> Computer Networks ->...  \n",
       "196  Intro to Cybersecurity -> Computer Networks ->...  \n",
       "197  Intro to Cybersecurity -> Computer Networks ->...  \n",
       "198  Intro to Cybersecurity -> Computer Networks ->...  \n",
       "199  Intro to Cybersecurity -> Computer Networks ->...  \n",
       "\n",
       "[120 rows x 4 columns]"
      ]
     },
     "execution_count": 65,
     "metadata": {},
     "output_type": "execute_result"
    }
   ],
   "source": [
    "#2.\n",
    "\n",
    "pathways_filtered = pathways[ (pathways.Program =='CECS') & (pathways.Major.isin(['Data science', 'Artificial intelligence', 'Cybersecurity'])) ]\n",
    "pathways_filtered"
   ]
  },
  {
   "cell_type": "code",
   "execution_count": 66,
   "id": "737545f8",
   "metadata": {},
   "outputs": [
    {
     "data": {
      "text/plain": [
       "['Intro to Python ',\n",
       " ' Statistics I ',\n",
       " ' Linear Algebra ',\n",
       " ' Data Wrangling ',\n",
       " ' Data Visualization ',\n",
       " ' Machine Learning ',\n",
       " ' Big Data Analytics ',\n",
       " ' Database Systems ',\n",
       " ' Data Mining ',\n",
       " ' Data Ethics ',\n",
       " ' Recommender Systems ',\n",
       " ' Geospatial Analysis ',\n",
       " ' Visualization Tools ',\n",
       " ' Deep Learning ',\n",
       " ' Data Science Capstone 401']"
      ]
     },
     "execution_count": 66,
     "metadata": {},
     "output_type": "execute_result"
    }
   ],
   "source": [
    "#3.\n",
    "\n",
    "pathways_filtered = pathways_filtered.copy() \n",
    "pathways_filtered.loc[:, 'CoursePath'] = pathways_filtered.CoursePath.str.split('->')#.apply(lambda x: ''.join(course.strip() for course in x))\n",
    "\n",
    "pathways_filtered\n",
    "pathways_filtered.loc[88]['CoursePath']\n"
   ]
  },
  {
   "cell_type": "code",
   "execution_count": null,
   "id": "dd45182b",
   "metadata": {},
   "outputs": [
    {
     "data": {
      "text/plain": [
       "['Intro to Python',\n",
       " 'Statistics I',\n",
       " 'Linear Algebra',\n",
       " 'Data Wrangling',\n",
       " 'Data Visualization',\n",
       " 'Machine Learning',\n",
       " 'Big Data Analytics',\n",
       " 'Database Systems',\n",
       " 'Data Mining',\n",
       " 'Data Science Capstone 401']"
      ]
     },
     "execution_count": 72,
     "metadata": {},
     "output_type": "execute_result"
    }
   ],
   "source": [
    "#4. \n",
    "\n",
    "#filters out rows with type 'elective' \n",
    "catalog_filtered = catalog[catalog['Type'] == 'Required']\n",
    "\n",
    "def filter_required_courses(row):\n",
    "    required = catalog_filtered[catalog_filtered['Major'] == row['Major']]['Course'].tolist()\n",
    "\n",
    "    course_path_list = []\n",
    "    for course in row['CoursePath']:\n",
    "        if course in required:\n",
    "            course_path_list.append(course)\n",
    "    return course_path_list\n",
    "\n",
    "pathways_filtered['CoursePath'] = pathways_filtered.apply(filter_required_courses, axis=1)\n",
    "\n",
    "pathways_filtered\n",
    "pathways_filtered.loc[88]['CoursePath']"
   ]
  },
  {
   "cell_type": "markdown",
   "id": "bb87d3e1",
   "metadata": {},
   "source": [
    "2. Extract Transitions"
   ]
  },
  {
   "cell_type": "code",
   "execution_count": 87,
   "id": "6fa005aa",
   "metadata": {},
   "outputs": [
    {
     "data": {
      "text/plain": [
       "[('Intro to Python', 'Statistics I'),\n",
       " ('Statistics I', 'Linear Algebra'),\n",
       " ('Linear Algebra', 'Data Wrangling'),\n",
       " ('Data Wrangling', 'Data Visualization'),\n",
       " ('Data Visualization', 'Machine Learning'),\n",
       " ('Machine Learning', 'Big Data Analytics'),\n",
       " ('Big Data Analytics', 'Database Systems'),\n",
       " ('Database Systems', 'Data Mining'),\n",
       " ('Data Mining', 'Data Science Capstone 401'),\n",
       " ('Intro to Python', 'Statistics I'),\n",
       " ('Statistics I', 'Linear Algebra'),\n",
       " ('Linear Algebra', 'Data Wrangling'),\n",
       " ('Data Wrangling', 'Data Visualization'),\n",
       " ('Data Visualization', 'Machine Learning'),\n",
       " ('Machine Learning', 'Big Data Analytics'),\n",
       " ('Big Data Analytics', 'Database Systems'),\n",
       " ('Database Systems', 'Data Mining'),\n",
       " ('Data Mining', 'Data Science Capstone 401'),\n",
       " ('Intro to Python', 'Statistics I'),\n",
       " ('Statistics I', 'Linear Algebra'),\n",
       " ('Linear Algebra', 'Data Wrangling'),\n",
       " ('Data Wrangling', 'Data Visualization'),\n",
       " ('Data Visualization', 'Machine Learning'),\n",
       " ('Machine Learning', 'Big Data Analytics'),\n",
       " ('Big Data Analytics', 'Database Systems'),\n",
       " ('Database Systems', 'Data Mining'),\n",
       " ('Data Mining', 'Data Science Capstone 401'),\n",
       " ('Intro to Python', 'Statistics I'),\n",
       " ('Statistics I', 'Linear Algebra'),\n",
       " ('Linear Algebra', 'Data Wrangling'),\n",
       " ('Data Wrangling', 'Data Visualization'),\n",
       " ('Data Visualization', 'Machine Learning'),\n",
       " ('Machine Learning', 'Big Data Analytics'),\n",
       " ('Big Data Analytics', 'Database Systems'),\n",
       " ('Database Systems', 'Data Mining'),\n",
       " ('Data Mining', 'Data Science Capstone 401'),\n",
       " ('Intro to Python', 'Statistics I'),\n",
       " ('Statistics I', 'Linear Algebra'),\n",
       " ('Linear Algebra', 'Data Wrangling'),\n",
       " ('Data Wrangling', 'Data Visualization'),\n",
       " ('Data Visualization', 'Machine Learning'),\n",
       " ('Machine Learning', 'Big Data Analytics'),\n",
       " ('Big Data Analytics', 'Database Systems'),\n",
       " ('Database Systems', 'Data Mining'),\n",
       " ('Data Mining', 'Data Science Capstone 401'),\n",
       " ('Intro to Python', 'Statistics I'),\n",
       " ('Statistics I', 'Linear Algebra'),\n",
       " ('Linear Algebra', 'Data Wrangling'),\n",
       " ('Data Wrangling', 'Data Visualization'),\n",
       " ('Data Visualization', 'Machine Learning'),\n",
       " ('Machine Learning', 'Big Data Analytics'),\n",
       " ('Big Data Analytics', 'Database Systems'),\n",
       " ('Database Systems', 'Data Mining'),\n",
       " ('Data Mining', 'Data Science Capstone 401'),\n",
       " ('Intro to Python', 'Statistics I'),\n",
       " ('Statistics I', 'Linear Algebra'),\n",
       " ('Linear Algebra', 'Data Wrangling'),\n",
       " ('Data Wrangling', 'Data Visualization'),\n",
       " ('Data Visualization', 'Machine Learning'),\n",
       " ('Machine Learning', 'Big Data Analytics'),\n",
       " ('Big Data Analytics', 'Database Systems'),\n",
       " ('Database Systems', 'Data Mining'),\n",
       " ('Data Mining', 'Data Science Capstone 401'),\n",
       " ('Intro to Python', 'Statistics I'),\n",
       " ('Statistics I', 'Linear Algebra'),\n",
       " ('Linear Algebra', 'Data Wrangling'),\n",
       " ('Data Wrangling', 'Data Visualization'),\n",
       " ('Data Visualization', 'Machine Learning'),\n",
       " ('Machine Learning', 'Big Data Analytics'),\n",
       " ('Big Data Analytics', 'Database Systems'),\n",
       " ('Database Systems', 'Data Mining'),\n",
       " ('Data Mining', 'Data Science Capstone 401'),\n",
       " ('Intro to Python', 'Statistics I'),\n",
       " ('Statistics I', 'Linear Algebra'),\n",
       " ('Linear Algebra', 'Data Wrangling'),\n",
       " ('Data Wrangling', 'Data Visualization'),\n",
       " ('Data Visualization', 'Machine Learning'),\n",
       " ('Machine Learning', 'Big Data Analytics'),\n",
       " ('Big Data Analytics', 'Database Systems'),\n",
       " ('Database Systems', 'Data Mining'),\n",
       " ('Data Mining', 'Data Science Capstone 401'),\n",
       " ('Intro to Python', 'Statistics I'),\n",
       " ('Statistics I', 'Linear Algebra'),\n",
       " ('Linear Algebra', 'Data Wrangling'),\n",
       " ('Data Wrangling', 'Data Visualization'),\n",
       " ('Data Visualization', 'Machine Learning'),\n",
       " ('Machine Learning', 'Big Data Analytics'),\n",
       " ('Big Data Analytics', 'Database Systems'),\n",
       " ('Database Systems', 'Data Mining'),\n",
       " ('Data Mining', 'Data Science Capstone 401'),\n",
       " ('Intro to Python', 'Statistics I'),\n",
       " ('Statistics I', 'Linear Algebra'),\n",
       " ('Linear Algebra', 'Data Wrangling'),\n",
       " ('Data Wrangling', 'Data Visualization'),\n",
       " ('Data Visualization', 'Machine Learning'),\n",
       " ('Machine Learning', 'Big Data Analytics'),\n",
       " ('Big Data Analytics', 'Database Systems'),\n",
       " ('Database Systems', 'Data Mining'),\n",
       " ('Data Mining', 'Data Science Capstone 401'),\n",
       " ('Intro to Python', 'Statistics I'),\n",
       " ('Statistics I', 'Linear Algebra'),\n",
       " ('Linear Algebra', 'Data Wrangling'),\n",
       " ('Data Wrangling', 'Data Visualization'),\n",
       " ('Data Visualization', 'Machine Learning'),\n",
       " ('Machine Learning', 'Big Data Analytics'),\n",
       " ('Big Data Analytics', 'Database Systems'),\n",
       " ('Database Systems', 'Data Mining'),\n",
       " ('Data Mining', 'Data Science Capstone 401'),\n",
       " ('Intro to Python', 'Statistics I'),\n",
       " ('Statistics I', 'Linear Algebra'),\n",
       " ('Linear Algebra', 'Data Wrangling'),\n",
       " ('Data Wrangling', 'Data Visualization'),\n",
       " ('Data Visualization', 'Machine Learning'),\n",
       " ('Machine Learning', 'Big Data Analytics'),\n",
       " ('Big Data Analytics', 'Database Systems'),\n",
       " ('Database Systems', 'Data Mining'),\n",
       " ('Data Mining', 'Data Science Capstone 401'),\n",
       " ('Intro to Python', 'Statistics I'),\n",
       " ('Statistics I', 'Linear Algebra'),\n",
       " ('Linear Algebra', 'Data Wrangling'),\n",
       " ('Data Wrangling', 'Data Visualization'),\n",
       " ('Data Visualization', 'Machine Learning'),\n",
       " ('Machine Learning', 'Big Data Analytics'),\n",
       " ('Big Data Analytics', 'Database Systems'),\n",
       " ('Database Systems', 'Data Mining'),\n",
       " ('Data Mining', 'Data Science Capstone 401'),\n",
       " ('Intro to Python', 'Statistics I'),\n",
       " ('Statistics I', 'Linear Algebra'),\n",
       " ('Linear Algebra', 'Data Wrangling'),\n",
       " ('Data Wrangling', 'Data Visualization'),\n",
       " ('Data Visualization', 'Machine Learning'),\n",
       " ('Machine Learning', 'Big Data Analytics'),\n",
       " ('Big Data Analytics', 'Database Systems'),\n",
       " ('Database Systems', 'Data Mining'),\n",
       " ('Data Mining', 'Data Science Capstone 401'),\n",
       " ('Intro to Python', 'Statistics I'),\n",
       " ('Statistics I', 'Linear Algebra'),\n",
       " ('Linear Algebra', 'Data Wrangling'),\n",
       " ('Data Wrangling', 'Data Visualization'),\n",
       " ('Data Visualization', 'Machine Learning'),\n",
       " ('Machine Learning', 'Big Data Analytics'),\n",
       " ('Big Data Analytics', 'Database Systems'),\n",
       " ('Database Systems', 'Data Mining'),\n",
       " ('Data Mining', 'Data Science Capstone 401'),\n",
       " ('Intro to Python', 'Statistics I'),\n",
       " ('Statistics I', 'Linear Algebra'),\n",
       " ('Linear Algebra', 'Data Wrangling'),\n",
       " ('Data Wrangling', 'Data Visualization'),\n",
       " ('Data Visualization', 'Machine Learning'),\n",
       " ('Machine Learning', 'Big Data Analytics'),\n",
       " ('Big Data Analytics', 'Database Systems'),\n",
       " ('Database Systems', 'Data Mining'),\n",
       " ('Data Mining', 'Data Science Capstone 401'),\n",
       " ('Intro to Python', 'Statistics I'),\n",
       " ('Statistics I', 'Linear Algebra'),\n",
       " ('Linear Algebra', 'Data Wrangling'),\n",
       " ('Data Wrangling', 'Data Visualization'),\n",
       " ('Data Visualization', 'Machine Learning'),\n",
       " ('Machine Learning', 'Big Data Analytics'),\n",
       " ('Big Data Analytics', 'Database Systems'),\n",
       " ('Database Systems', 'Data Mining'),\n",
       " ('Data Mining', 'Data Science Capstone 401'),\n",
       " ('Intro to Python', 'Statistics I'),\n",
       " ('Statistics I', 'Linear Algebra'),\n",
       " ('Linear Algebra', 'Data Wrangling'),\n",
       " ('Data Wrangling', 'Data Visualization'),\n",
       " ('Data Visualization', 'Machine Learning'),\n",
       " ('Machine Learning', 'Big Data Analytics'),\n",
       " ('Big Data Analytics', 'Database Systems'),\n",
       " ('Database Systems', 'Data Mining'),\n",
       " ('Data Mining', 'Data Science Capstone 401'),\n",
       " ('Intro to Python', 'Statistics I'),\n",
       " ('Statistics I', 'Linear Algebra'),\n",
       " ('Linear Algebra', 'Data Wrangling'),\n",
       " ('Data Wrangling', 'Data Visualization'),\n",
       " ('Data Visualization', 'Machine Learning'),\n",
       " ('Machine Learning', 'Big Data Analytics'),\n",
       " ('Big Data Analytics', 'Database Systems'),\n",
       " ('Database Systems', 'Data Mining'),\n",
       " ('Data Mining', 'Data Science Capstone 401'),\n",
       " ('Intro to Python', 'Statistics I'),\n",
       " ('Statistics I', 'Linear Algebra'),\n",
       " ('Linear Algebra', 'Data Wrangling'),\n",
       " ('Data Wrangling', 'Data Visualization'),\n",
       " ('Data Visualization', 'Machine Learning'),\n",
       " ('Machine Learning', 'Big Data Analytics'),\n",
       " ('Big Data Analytics', 'Database Systems'),\n",
       " ('Database Systems', 'Data Mining'),\n",
       " ('Data Mining', 'Data Science Capstone 401'),\n",
       " ('Intro to Python', 'Statistics I'),\n",
       " ('Statistics I', 'Linear Algebra'),\n",
       " ('Linear Algebra', 'Data Wrangling'),\n",
       " ('Data Wrangling', 'Data Visualization'),\n",
       " ('Data Visualization', 'Machine Learning'),\n",
       " ('Machine Learning', 'Big Data Analytics'),\n",
       " ('Big Data Analytics', 'Database Systems'),\n",
       " ('Database Systems', 'Data Mining'),\n",
       " ('Data Mining', 'Data Science Capstone 401'),\n",
       " ('Intro to Python', 'Statistics I'),\n",
       " ('Statistics I', 'Linear Algebra'),\n",
       " ('Linear Algebra', 'Data Wrangling'),\n",
       " ('Data Wrangling', 'Data Visualization'),\n",
       " ('Data Visualization', 'Machine Learning'),\n",
       " ('Machine Learning', 'Big Data Analytics'),\n",
       " ('Big Data Analytics', 'Database Systems'),\n",
       " ('Database Systems', 'Data Mining'),\n",
       " ('Data Mining', 'Data Science Capstone 401'),\n",
       " ('Intro to Python', 'Statistics I'),\n",
       " ('Statistics I', 'Linear Algebra'),\n",
       " ('Linear Algebra', 'Data Wrangling'),\n",
       " ('Data Wrangling', 'Data Visualization'),\n",
       " ('Data Visualization', 'Machine Learning'),\n",
       " ('Machine Learning', 'Big Data Analytics'),\n",
       " ('Big Data Analytics', 'Database Systems'),\n",
       " ('Database Systems', 'Data Mining'),\n",
       " ('Data Mining', 'Data Science Capstone 401'),\n",
       " ('Intro to Python', 'Statistics I'),\n",
       " ('Statistics I', 'Linear Algebra'),\n",
       " ('Linear Algebra', 'Data Wrangling'),\n",
       " ('Data Wrangling', 'Data Visualization'),\n",
       " ('Data Visualization', 'Machine Learning'),\n",
       " ('Machine Learning', 'Big Data Analytics'),\n",
       " ('Big Data Analytics', 'Database Systems'),\n",
       " ('Database Systems', 'Data Mining'),\n",
       " ('Data Mining', 'Data Science Capstone 401'),\n",
       " ('Intro to Python', 'Statistics I'),\n",
       " ('Statistics I', 'Linear Algebra'),\n",
       " ('Linear Algebra', 'Data Wrangling'),\n",
       " ('Data Wrangling', 'Data Visualization'),\n",
       " ('Data Visualization', 'Machine Learning'),\n",
       " ('Machine Learning', 'Big Data Analytics'),\n",
       " ('Big Data Analytics', 'Database Systems'),\n",
       " ('Database Systems', 'Data Mining'),\n",
       " ('Data Mining', 'Data Science Capstone 401'),\n",
       " ('Intro to Python', 'Statistics I'),\n",
       " ('Statistics I', 'Linear Algebra'),\n",
       " ('Linear Algebra', 'Data Wrangling'),\n",
       " ('Data Wrangling', 'Data Visualization'),\n",
       " ('Data Visualization', 'Machine Learning'),\n",
       " ('Machine Learning', 'Big Data Analytics'),\n",
       " ('Big Data Analytics', 'Database Systems'),\n",
       " ('Database Systems', 'Data Mining'),\n",
       " ('Data Mining', 'Data Science Capstone 401'),\n",
       " ('Intro to Python', 'Statistics I'),\n",
       " ('Statistics I', 'Linear Algebra'),\n",
       " ('Linear Algebra', 'Data Wrangling'),\n",
       " ('Data Wrangling', 'Data Visualization'),\n",
       " ('Data Visualization', 'Machine Learning'),\n",
       " ('Machine Learning', 'Big Data Analytics'),\n",
       " ('Big Data Analytics', 'Database Systems'),\n",
       " ('Database Systems', 'Data Mining'),\n",
       " ('Data Mining', 'Data Science Capstone 401'),\n",
       " ('Intro to Python', 'Statistics I'),\n",
       " ('Statistics I', 'Linear Algebra'),\n",
       " ('Linear Algebra', 'Data Wrangling'),\n",
       " ('Data Wrangling', 'Data Visualization'),\n",
       " ('Data Visualization', 'Machine Learning'),\n",
       " ('Machine Learning', 'Big Data Analytics'),\n",
       " ('Big Data Analytics', 'Database Systems'),\n",
       " ('Database Systems', 'Data Mining'),\n",
       " ('Data Mining', 'Data Science Capstone 401'),\n",
       " ('Intro to Python', 'Statistics I'),\n",
       " ('Statistics I', 'Linear Algebra'),\n",
       " ('Linear Algebra', 'Data Wrangling'),\n",
       " ('Data Wrangling', 'Data Visualization'),\n",
       " ('Data Visualization', 'Machine Learning'),\n",
       " ('Machine Learning', 'Big Data Analytics'),\n",
       " ('Big Data Analytics', 'Database Systems'),\n",
       " ('Database Systems', 'Data Mining'),\n",
       " ('Data Mining', 'Data Science Capstone 401'),\n",
       " ('Intro to Python', 'Statistics I'),\n",
       " ('Statistics I', 'Linear Algebra'),\n",
       " ('Linear Algebra', 'Data Wrangling'),\n",
       " ('Data Wrangling', 'Data Visualization'),\n",
       " ('Data Visualization', 'Machine Learning'),\n",
       " ('Machine Learning', 'Big Data Analytics'),\n",
       " ('Big Data Analytics', 'Database Systems'),\n",
       " ('Database Systems', 'Data Mining'),\n",
       " ('Data Mining', 'Data Science Capstone 401'),\n",
       " ('Intro to Python', 'Statistics I'),\n",
       " ('Statistics I', 'Linear Algebra'),\n",
       " ('Linear Algebra', 'Data Wrangling'),\n",
       " ('Data Wrangling', 'Data Visualization'),\n",
       " ('Data Visualization', 'Machine Learning'),\n",
       " ('Machine Learning', 'Big Data Analytics'),\n",
       " ('Big Data Analytics', 'Database Systems'),\n",
       " ('Database Systems', 'Data Mining'),\n",
       " ('Data Mining', 'Data Science Capstone 401'),\n",
       " ('Intro to Python', 'Statistics I'),\n",
       " ('Statistics I', 'Linear Algebra'),\n",
       " ('Linear Algebra', 'Data Wrangling'),\n",
       " ('Data Wrangling', 'Data Visualization'),\n",
       " ('Data Visualization', 'Machine Learning'),\n",
       " ('Machine Learning', 'Big Data Analytics'),\n",
       " ('Big Data Analytics', 'Database Systems'),\n",
       " ('Database Systems', 'Data Mining'),\n",
       " ('Data Mining', 'Data Science Capstone 401'),\n",
       " ('Intro to Python', 'Statistics I'),\n",
       " ('Statistics I', 'Linear Algebra'),\n",
       " ('Linear Algebra', 'Data Wrangling'),\n",
       " ('Data Wrangling', 'Data Visualization'),\n",
       " ('Data Visualization', 'Machine Learning'),\n",
       " ('Machine Learning', 'Big Data Analytics'),\n",
       " ('Big Data Analytics', 'Database Systems'),\n",
       " ('Database Systems', 'Data Mining'),\n",
       " ('Data Mining', 'Data Science Capstone 401'),\n",
       " ('Intro to Python', 'Statistics I'),\n",
       " ('Statistics I', 'Linear Algebra'),\n",
       " ('Linear Algebra', 'Data Wrangling'),\n",
       " ('Data Wrangling', 'Data Visualization'),\n",
       " ('Data Visualization', 'Machine Learning'),\n",
       " ('Machine Learning', 'Big Data Analytics'),\n",
       " ('Big Data Analytics', 'Database Systems'),\n",
       " ('Database Systems', 'Data Mining'),\n",
       " ('Data Mining', 'Data Science Capstone 401'),\n",
       " ('Intro to Python', 'Statistics I'),\n",
       " ('Statistics I', 'Linear Algebra'),\n",
       " ('Linear Algebra', 'Data Wrangling'),\n",
       " ('Data Wrangling', 'Data Visualization'),\n",
       " ('Data Visualization', 'Machine Learning'),\n",
       " ('Machine Learning', 'Big Data Analytics'),\n",
       " ('Big Data Analytics', 'Database Systems'),\n",
       " ('Database Systems', 'Data Mining'),\n",
       " ('Data Mining', 'Data Science Capstone 401'),\n",
       " ('Intro to Python', 'Statistics I'),\n",
       " ('Statistics I', 'Linear Algebra'),\n",
       " ('Linear Algebra', 'Data Wrangling'),\n",
       " ('Data Wrangling', 'Data Visualization'),\n",
       " ('Data Visualization', 'Machine Learning'),\n",
       " ('Machine Learning', 'Big Data Analytics'),\n",
       " ('Big Data Analytics', 'Database Systems'),\n",
       " ('Database Systems', 'Data Mining'),\n",
       " ('Data Mining', 'Data Science Capstone 401'),\n",
       " ('Intro to Python', 'Statistics I'),\n",
       " ('Statistics I', 'Linear Algebra'),\n",
       " ('Linear Algebra', 'Data Wrangling'),\n",
       " ('Data Wrangling', 'Data Visualization'),\n",
       " ('Data Visualization', 'Machine Learning'),\n",
       " ('Machine Learning', 'Big Data Analytics'),\n",
       " ('Big Data Analytics', 'Database Systems'),\n",
       " ('Database Systems', 'Data Mining'),\n",
       " ('Data Mining', 'Data Science Capstone 401'),\n",
       " ('Intro to Python', 'Statistics I'),\n",
       " ('Statistics I', 'Linear Algebra'),\n",
       " ('Linear Algebra', 'Data Wrangling'),\n",
       " ('Data Wrangling', 'Data Visualization'),\n",
       " ('Data Visualization', 'Machine Learning'),\n",
       " ('Machine Learning', 'Big Data Analytics'),\n",
       " ('Big Data Analytics', 'Database Systems'),\n",
       " ('Database Systems', 'Data Mining'),\n",
       " ('Data Mining', 'Data Science Capstone 401'),\n",
       " ('Intro to Python', 'Statistics I'),\n",
       " ('Statistics I', 'Linear Algebra'),\n",
       " ('Linear Algebra', 'Data Wrangling'),\n",
       " ('Data Wrangling', 'Data Visualization'),\n",
       " ('Data Visualization', 'Machine Learning'),\n",
       " ('Machine Learning', 'Big Data Analytics'),\n",
       " ('Big Data Analytics', 'Database Systems'),\n",
       " ('Database Systems', 'Data Mining'),\n",
       " ('Data Mining', 'Data Science Capstone 401'),\n",
       " ('Intro to Python', 'Probability & Statistics'),\n",
       " ('Probability & Statistics', 'Linear Algebra'),\n",
       " ('Linear Algebra', 'Machine Learning'),\n",
       " ('Machine Learning', 'Neural Networks'),\n",
       " ('Neural Networks', 'Deep Learning'),\n",
       " ('Deep Learning', 'Computer Vision'),\n",
       " ('Computer Vision', 'Reinforcement Learning'),\n",
       " ('Reinforcement Learning', 'Ethics in AI'),\n",
       " ('Ethics in AI', 'Artificial Intelligence Capstone 401'),\n",
       " ('Intro to Python', 'Probability & Statistics'),\n",
       " ('Probability & Statistics', 'Linear Algebra'),\n",
       " ('Linear Algebra', 'Machine Learning'),\n",
       " ('Machine Learning', 'Neural Networks'),\n",
       " ('Neural Networks', 'Deep Learning'),\n",
       " ('Deep Learning', 'Computer Vision'),\n",
       " ('Computer Vision', 'Reinforcement Learning'),\n",
       " ('Reinforcement Learning', 'Ethics in AI'),\n",
       " ('Ethics in AI', 'Artificial Intelligence Capstone 401'),\n",
       " ('Intro to Python', 'Probability & Statistics'),\n",
       " ('Probability & Statistics', 'Linear Algebra'),\n",
       " ('Linear Algebra', 'Machine Learning'),\n",
       " ('Machine Learning', 'Neural Networks'),\n",
       " ('Neural Networks', 'Deep Learning'),\n",
       " ('Deep Learning', 'Computer Vision'),\n",
       " ('Computer Vision', 'Reinforcement Learning'),\n",
       " ('Reinforcement Learning', 'Ethics in AI'),\n",
       " ('Ethics in AI', 'Artificial Intelligence Capstone 401'),\n",
       " ('Intro to Python', 'Probability & Statistics'),\n",
       " ('Probability & Statistics', 'Linear Algebra'),\n",
       " ('Linear Algebra', 'Machine Learning'),\n",
       " ('Machine Learning', 'Neural Networks'),\n",
       " ('Neural Networks', 'Deep Learning'),\n",
       " ('Deep Learning', 'Computer Vision'),\n",
       " ('Computer Vision', 'Reinforcement Learning'),\n",
       " ('Reinforcement Learning', 'Ethics in AI'),\n",
       " ('Ethics in AI', 'Artificial Intelligence Capstone 401'),\n",
       " ('Intro to Python', 'Probability & Statistics'),\n",
       " ('Probability & Statistics', 'Linear Algebra'),\n",
       " ('Linear Algebra', 'Machine Learning'),\n",
       " ('Machine Learning', 'Neural Networks'),\n",
       " ('Neural Networks', 'Deep Learning'),\n",
       " ('Deep Learning', 'Computer Vision'),\n",
       " ('Computer Vision', 'Reinforcement Learning'),\n",
       " ('Reinforcement Learning', 'Ethics in AI'),\n",
       " ('Ethics in AI', 'Artificial Intelligence Capstone 401'),\n",
       " ('Intro to Python', 'Probability & Statistics'),\n",
       " ('Probability & Statistics', 'Linear Algebra'),\n",
       " ('Linear Algebra', 'Machine Learning'),\n",
       " ('Machine Learning', 'Neural Networks'),\n",
       " ('Neural Networks', 'Deep Learning'),\n",
       " ('Deep Learning', 'Computer Vision'),\n",
       " ('Computer Vision', 'Reinforcement Learning'),\n",
       " ('Reinforcement Learning', 'Ethics in AI'),\n",
       " ('Ethics in AI', 'Artificial Intelligence Capstone 401'),\n",
       " ('Intro to Python', 'Probability & Statistics'),\n",
       " ('Probability & Statistics', 'Linear Algebra'),\n",
       " ('Linear Algebra', 'Machine Learning'),\n",
       " ('Machine Learning', 'Neural Networks'),\n",
       " ('Neural Networks', 'Deep Learning'),\n",
       " ('Deep Learning', 'Computer Vision'),\n",
       " ('Computer Vision', 'Reinforcement Learning'),\n",
       " ('Reinforcement Learning', 'Ethics in AI'),\n",
       " ('Ethics in AI', 'Artificial Intelligence Capstone 401'),\n",
       " ('Intro to Python', 'Probability & Statistics'),\n",
       " ('Probability & Statistics', 'Linear Algebra'),\n",
       " ('Linear Algebra', 'Machine Learning'),\n",
       " ('Machine Learning', 'Neural Networks'),\n",
       " ('Neural Networks', 'Deep Learning'),\n",
       " ('Deep Learning', 'Computer Vision'),\n",
       " ('Computer Vision', 'Reinforcement Learning'),\n",
       " ('Reinforcement Learning', 'Ethics in AI'),\n",
       " ('Ethics in AI', 'Artificial Intelligence Capstone 401'),\n",
       " ('Intro to Python', 'Probability & Statistics'),\n",
       " ('Probability & Statistics', 'Linear Algebra'),\n",
       " ('Linear Algebra', 'Machine Learning'),\n",
       " ('Machine Learning', 'Neural Networks'),\n",
       " ('Neural Networks', 'Deep Learning'),\n",
       " ('Deep Learning', 'Computer Vision'),\n",
       " ('Computer Vision', 'Reinforcement Learning'),\n",
       " ('Reinforcement Learning', 'Ethics in AI'),\n",
       " ('Ethics in AI', 'Artificial Intelligence Capstone 401'),\n",
       " ('Intro to Python', 'Probability & Statistics'),\n",
       " ('Probability & Statistics', 'Linear Algebra'),\n",
       " ('Linear Algebra', 'Machine Learning'),\n",
       " ('Machine Learning', 'Neural Networks'),\n",
       " ('Neural Networks', 'Deep Learning'),\n",
       " ('Deep Learning', 'Computer Vision'),\n",
       " ('Computer Vision', 'Reinforcement Learning'),\n",
       " ('Reinforcement Learning', 'Ethics in AI'),\n",
       " ('Ethics in AI', 'Artificial Intelligence Capstone 401'),\n",
       " ('Intro to Python', 'Probability & Statistics'),\n",
       " ('Probability & Statistics', 'Linear Algebra'),\n",
       " ('Linear Algebra', 'Machine Learning'),\n",
       " ('Machine Learning', 'Neural Networks'),\n",
       " ('Neural Networks', 'Deep Learning'),\n",
       " ('Deep Learning', 'Computer Vision'),\n",
       " ('Computer Vision', 'Reinforcement Learning'),\n",
       " ('Reinforcement Learning', 'Ethics in AI'),\n",
       " ('Ethics in AI', 'Artificial Intelligence Capstone 401'),\n",
       " ('Intro to Python', 'Probability & Statistics'),\n",
       " ('Probability & Statistics', 'Linear Algebra'),\n",
       " ('Linear Algebra', 'Machine Learning'),\n",
       " ('Machine Learning', 'Neural Networks'),\n",
       " ('Neural Networks', 'Deep Learning'),\n",
       " ('Deep Learning', 'Computer Vision'),\n",
       " ('Computer Vision', 'Reinforcement Learning'),\n",
       " ('Reinforcement Learning', 'Ethics in AI'),\n",
       " ('Ethics in AI', 'Artificial Intelligence Capstone 401'),\n",
       " ('Intro to Python', 'Probability & Statistics'),\n",
       " ('Probability & Statistics', 'Linear Algebra'),\n",
       " ('Linear Algebra', 'Machine Learning'),\n",
       " ('Machine Learning', 'Neural Networks'),\n",
       " ('Neural Networks', 'Deep Learning'),\n",
       " ('Deep Learning', 'Computer Vision'),\n",
       " ('Computer Vision', 'Reinforcement Learning'),\n",
       " ('Reinforcement Learning', 'Ethics in AI'),\n",
       " ('Ethics in AI', 'Artificial Intelligence Capstone 401'),\n",
       " ('Intro to Python', 'Probability & Statistics'),\n",
       " ('Probability & Statistics', 'Linear Algebra'),\n",
       " ('Linear Algebra', 'Machine Learning'),\n",
       " ('Machine Learning', 'Neural Networks'),\n",
       " ('Neural Networks', 'Deep Learning'),\n",
       " ('Deep Learning', 'Computer Vision'),\n",
       " ('Computer Vision', 'Reinforcement Learning'),\n",
       " ('Reinforcement Learning', 'Ethics in AI'),\n",
       " ('Ethics in AI', 'Artificial Intelligence Capstone 401'),\n",
       " ('Intro to Python', 'Probability & Statistics'),\n",
       " ('Probability & Statistics', 'Linear Algebra'),\n",
       " ('Linear Algebra', 'Machine Learning'),\n",
       " ('Machine Learning', 'Neural Networks'),\n",
       " ('Neural Networks', 'Deep Learning'),\n",
       " ('Deep Learning', 'Computer Vision'),\n",
       " ('Computer Vision', 'Reinforcement Learning'),\n",
       " ('Reinforcement Learning', 'Ethics in AI'),\n",
       " ('Ethics in AI', 'Artificial Intelligence Capstone 401'),\n",
       " ('Intro to Python', 'Probability & Statistics'),\n",
       " ('Probability & Statistics', 'Linear Algebra'),\n",
       " ('Linear Algebra', 'Machine Learning'),\n",
       " ('Machine Learning', 'Neural Networks'),\n",
       " ('Neural Networks', 'Deep Learning'),\n",
       " ('Deep Learning', 'Computer Vision'),\n",
       " ('Computer Vision', 'Reinforcement Learning'),\n",
       " ('Reinforcement Learning', 'Ethics in AI'),\n",
       " ('Ethics in AI', 'Artificial Intelligence Capstone 401'),\n",
       " ('Intro to Python', 'Probability & Statistics'),\n",
       " ('Probability & Statistics', 'Linear Algebra'),\n",
       " ('Linear Algebra', 'Machine Learning'),\n",
       " ('Machine Learning', 'Neural Networks'),\n",
       " ('Neural Networks', 'Deep Learning'),\n",
       " ('Deep Learning', 'Computer Vision'),\n",
       " ('Computer Vision', 'Reinforcement Learning'),\n",
       " ('Reinforcement Learning', 'Ethics in AI'),\n",
       " ('Ethics in AI', 'Artificial Intelligence Capstone 401'),\n",
       " ('Intro to Python', 'Probability & Statistics'),\n",
       " ('Probability & Statistics', 'Linear Algebra'),\n",
       " ('Linear Algebra', 'Machine Learning'),\n",
       " ('Machine Learning', 'Neural Networks'),\n",
       " ('Neural Networks', 'Deep Learning'),\n",
       " ('Deep Learning', 'Computer Vision'),\n",
       " ('Computer Vision', 'Reinforcement Learning'),\n",
       " ('Reinforcement Learning', 'Ethics in AI'),\n",
       " ('Ethics in AI', 'Artificial Intelligence Capstone 401'),\n",
       " ('Intro to Python', 'Probability & Statistics'),\n",
       " ('Probability & Statistics', 'Linear Algebra'),\n",
       " ('Linear Algebra', 'Machine Learning'),\n",
       " ('Machine Learning', 'Neural Networks'),\n",
       " ('Neural Networks', 'Deep Learning'),\n",
       " ('Deep Learning', 'Computer Vision'),\n",
       " ('Computer Vision', 'Reinforcement Learning'),\n",
       " ('Reinforcement Learning', 'Ethics in AI'),\n",
       " ('Ethics in AI', 'Artificial Intelligence Capstone 401'),\n",
       " ('Intro to Python', 'Probability & Statistics'),\n",
       " ('Probability & Statistics', 'Linear Algebra'),\n",
       " ('Linear Algebra', 'Machine Learning'),\n",
       " ('Machine Learning', 'Neural Networks'),\n",
       " ('Neural Networks', 'Deep Learning'),\n",
       " ('Deep Learning', 'Computer Vision'),\n",
       " ('Computer Vision', 'Reinforcement Learning'),\n",
       " ('Reinforcement Learning', 'Ethics in AI'),\n",
       " ('Ethics in AI', 'Artificial Intelligence Capstone 401'),\n",
       " ('Intro to Python', 'Probability & Statistics'),\n",
       " ('Probability & Statistics', 'Linear Algebra'),\n",
       " ('Linear Algebra', 'Machine Learning'),\n",
       " ('Machine Learning', 'Neural Networks'),\n",
       " ('Neural Networks', 'Deep Learning'),\n",
       " ('Deep Learning', 'Computer Vision'),\n",
       " ('Computer Vision', 'Reinforcement Learning'),\n",
       " ('Reinforcement Learning', 'Ethics in AI'),\n",
       " ('Ethics in AI', 'Artificial Intelligence Capstone 401'),\n",
       " ('Intro to Python', 'Probability & Statistics'),\n",
       " ('Probability & Statistics', 'Linear Algebra'),\n",
       " ('Linear Algebra', 'Machine Learning'),\n",
       " ('Machine Learning', 'Neural Networks'),\n",
       " ('Neural Networks', 'Deep Learning'),\n",
       " ('Deep Learning', 'Computer Vision'),\n",
       " ('Computer Vision', 'Reinforcement Learning'),\n",
       " ('Reinforcement Learning', 'Ethics in AI'),\n",
       " ('Ethics in AI', 'Artificial Intelligence Capstone 401'),\n",
       " ('Intro to Python', 'Probability & Statistics'),\n",
       " ('Probability & Statistics', 'Linear Algebra'),\n",
       " ('Linear Algebra', 'Machine Learning'),\n",
       " ('Machine Learning', 'Neural Networks'),\n",
       " ('Neural Networks', 'Deep Learning'),\n",
       " ('Deep Learning', 'Computer Vision'),\n",
       " ('Computer Vision', 'Reinforcement Learning'),\n",
       " ('Reinforcement Learning', 'Ethics in AI'),\n",
       " ('Ethics in AI', 'Artificial Intelligence Capstone 401'),\n",
       " ('Intro to Python', 'Probability & Statistics'),\n",
       " ('Probability & Statistics', 'Linear Algebra'),\n",
       " ('Linear Algebra', 'Machine Learning'),\n",
       " ('Machine Learning', 'Neural Networks'),\n",
       " ('Neural Networks', 'Deep Learning'),\n",
       " ('Deep Learning', 'Computer Vision'),\n",
       " ('Computer Vision', 'Reinforcement Learning'),\n",
       " ('Reinforcement Learning', 'Ethics in AI'),\n",
       " ('Ethics in AI', 'Artificial Intelligence Capstone 401'),\n",
       " ('Intro to Python', 'Probability & Statistics'),\n",
       " ('Probability & Statistics', 'Linear Algebra'),\n",
       " ('Linear Algebra', 'Machine Learning'),\n",
       " ('Machine Learning', 'Neural Networks'),\n",
       " ('Neural Networks', 'Deep Learning'),\n",
       " ('Deep Learning', 'Computer Vision'),\n",
       " ('Computer Vision', 'Reinforcement Learning'),\n",
       " ('Reinforcement Learning', 'Ethics in AI'),\n",
       " ('Ethics in AI', 'Artificial Intelligence Capstone 401'),\n",
       " ('Intro to Python', 'Probability & Statistics'),\n",
       " ('Probability & Statistics', 'Linear Algebra'),\n",
       " ('Linear Algebra', 'Machine Learning'),\n",
       " ('Machine Learning', 'Neural Networks'),\n",
       " ('Neural Networks', 'Deep Learning'),\n",
       " ('Deep Learning', 'Computer Vision'),\n",
       " ('Computer Vision', 'Reinforcement Learning'),\n",
       " ('Reinforcement Learning', 'Ethics in AI'),\n",
       " ('Ethics in AI', 'Artificial Intelligence Capstone 401'),\n",
       " ('Intro to Python', 'Probability & Statistics'),\n",
       " ('Probability & Statistics', 'Linear Algebra'),\n",
       " ('Linear Algebra', 'Machine Learning'),\n",
       " ('Machine Learning', 'Neural Networks'),\n",
       " ('Neural Networks', 'Deep Learning'),\n",
       " ('Deep Learning', 'Computer Vision'),\n",
       " ('Computer Vision', 'Reinforcement Learning'),\n",
       " ('Reinforcement Learning', 'Ethics in AI'),\n",
       " ('Ethics in AI', 'Artificial Intelligence Capstone 401'),\n",
       " ('Intro to Python', 'Probability & Statistics'),\n",
       " ('Probability & Statistics', 'Linear Algebra'),\n",
       " ('Linear Algebra', 'Machine Learning'),\n",
       " ('Machine Learning', 'Neural Networks'),\n",
       " ('Neural Networks', 'Deep Learning'),\n",
       " ('Deep Learning', 'Computer Vision'),\n",
       " ('Computer Vision', 'Reinforcement Learning'),\n",
       " ('Reinforcement Learning', 'Ethics in AI'),\n",
       " ('Ethics in AI', 'Artificial Intelligence Capstone 401'),\n",
       " ('Intro to Python', 'Probability & Statistics'),\n",
       " ('Probability & Statistics', 'Linear Algebra'),\n",
       " ('Linear Algebra', 'Machine Learning'),\n",
       " ('Machine Learning', 'Neural Networks'),\n",
       " ('Neural Networks', 'Deep Learning'),\n",
       " ('Deep Learning', 'Computer Vision'),\n",
       " ('Computer Vision', 'Reinforcement Learning'),\n",
       " ('Reinforcement Learning', 'Ethics in AI'),\n",
       " ('Ethics in AI', 'Artificial Intelligence Capstone 401'),\n",
       " ('Intro to Python', 'Probability & Statistics'),\n",
       " ('Probability & Statistics', 'Linear Algebra'),\n",
       " ('Linear Algebra', 'Machine Learning'),\n",
       " ('Machine Learning', 'Neural Networks'),\n",
       " ('Neural Networks', 'Deep Learning'),\n",
       " ('Deep Learning', 'Computer Vision'),\n",
       " ('Computer Vision', 'Reinforcement Learning'),\n",
       " ('Reinforcement Learning', 'Ethics in AI'),\n",
       " ('Ethics in AI', 'Artificial Intelligence Capstone 401'),\n",
       " ('Intro to Python', 'Probability & Statistics'),\n",
       " ('Probability & Statistics', 'Linear Algebra'),\n",
       " ('Linear Algebra', 'Machine Learning'),\n",
       " ('Machine Learning', 'Neural Networks'),\n",
       " ('Neural Networks', 'Deep Learning'),\n",
       " ('Deep Learning', 'Computer Vision'),\n",
       " ('Computer Vision', 'Reinforcement Learning'),\n",
       " ('Reinforcement Learning', 'Ethics in AI'),\n",
       " ('Ethics in AI', 'Artificial Intelligence Capstone 401'),\n",
       " ('Intro to Python', 'Probability & Statistics'),\n",
       " ('Probability & Statistics', 'Linear Algebra'),\n",
       " ('Linear Algebra', 'Machine Learning'),\n",
       " ('Machine Learning', 'Neural Networks'),\n",
       " ('Neural Networks', 'Deep Learning'),\n",
       " ('Deep Learning', 'Computer Vision'),\n",
       " ('Computer Vision', 'Reinforcement Learning'),\n",
       " ('Reinforcement Learning', 'Ethics in AI'),\n",
       " ('Ethics in AI', 'Artificial Intelligence Capstone 401'),\n",
       " ('Intro to Python', 'Probability & Statistics'),\n",
       " ('Probability & Statistics', 'Linear Algebra'),\n",
       " ('Linear Algebra', 'Machine Learning'),\n",
       " ('Machine Learning', 'Neural Networks'),\n",
       " ('Neural Networks', 'Deep Learning'),\n",
       " ('Deep Learning', 'Computer Vision'),\n",
       " ('Computer Vision', 'Reinforcement Learning'),\n",
       " ('Reinforcement Learning', 'Ethics in AI'),\n",
       " ('Ethics in AI', 'Artificial Intelligence Capstone 401'),\n",
       " ('Intro to Python', 'Probability & Statistics'),\n",
       " ('Probability & Statistics', 'Linear Algebra'),\n",
       " ('Linear Algebra', 'Machine Learning'),\n",
       " ('Machine Learning', 'Neural Networks'),\n",
       " ('Neural Networks', 'Deep Learning'),\n",
       " ('Deep Learning', 'Computer Vision'),\n",
       " ('Computer Vision', 'Reinforcement Learning'),\n",
       " ('Reinforcement Learning', 'Ethics in AI'),\n",
       " ('Ethics in AI', 'Artificial Intelligence Capstone 401'),\n",
       " ('Intro to Python', 'Probability & Statistics'),\n",
       " ('Probability & Statistics', 'Linear Algebra'),\n",
       " ('Linear Algebra', 'Machine Learning'),\n",
       " ('Machine Learning', 'Neural Networks'),\n",
       " ('Neural Networks', 'Deep Learning'),\n",
       " ('Deep Learning', 'Computer Vision'),\n",
       " ('Computer Vision', 'Reinforcement Learning'),\n",
       " ('Reinforcement Learning', 'Ethics in AI'),\n",
       " ('Ethics in AI', 'Artificial Intelligence Capstone 401'),\n",
       " ('Intro to Python', 'Probability & Statistics'),\n",
       " ('Probability & Statistics', 'Linear Algebra'),\n",
       " ('Linear Algebra', 'Machine Learning'),\n",
       " ('Machine Learning', 'Neural Networks'),\n",
       " ('Neural Networks', 'Deep Learning'),\n",
       " ('Deep Learning', 'Computer Vision'),\n",
       " ('Computer Vision', 'Reinforcement Learning'),\n",
       " ('Reinforcement Learning', 'Ethics in AI'),\n",
       " ('Ethics in AI', 'Artificial Intelligence Capstone 401'),\n",
       " ('Intro to Python', 'Probability & Statistics'),\n",
       " ('Probability & Statistics', 'Linear Algebra'),\n",
       " ('Linear Algebra', 'Machine Learning'),\n",
       " ('Machine Learning', 'Neural Networks'),\n",
       " ('Neural Networks', 'Deep Learning'),\n",
       " ('Deep Learning', 'Computer Vision'),\n",
       " ('Computer Vision', 'Reinforcement Learning'),\n",
       " ('Reinforcement Learning', 'Ethics in AI'),\n",
       " ('Ethics in AI', 'Artificial Intelligence Capstone 401'),\n",
       " ('Intro to Python', 'Probability & Statistics'),\n",
       " ('Probability & Statistics', 'Linear Algebra'),\n",
       " ('Linear Algebra', 'Machine Learning'),\n",
       " ('Machine Learning', 'Neural Networks'),\n",
       " ('Neural Networks', 'Deep Learning'),\n",
       " ('Deep Learning', 'Computer Vision'),\n",
       " ('Computer Vision', 'Reinforcement Learning'),\n",
       " ('Reinforcement Learning', 'Ethics in AI'),\n",
       " ('Ethics in AI', 'Artificial Intelligence Capstone 401'),\n",
       " ('Intro to Python', 'Probability & Statistics'),\n",
       " ('Probability & Statistics', 'Linear Algebra'),\n",
       " ('Linear Algebra', 'Machine Learning'),\n",
       " ('Machine Learning', 'Neural Networks'),\n",
       " ('Neural Networks', 'Deep Learning'),\n",
       " ('Deep Learning', 'Computer Vision'),\n",
       " ('Computer Vision', 'Reinforcement Learning'),\n",
       " ('Reinforcement Learning', 'Ethics in AI'),\n",
       " ('Ethics in AI', 'Artificial Intelligence Capstone 401'),\n",
       " ('Intro to Python', 'Probability & Statistics'),\n",
       " ('Probability & Statistics', 'Linear Algebra'),\n",
       " ('Linear Algebra', 'Machine Learning'),\n",
       " ('Machine Learning', 'Neural Networks'),\n",
       " ('Neural Networks', 'Deep Learning'),\n",
       " ('Deep Learning', 'Computer Vision'),\n",
       " ('Computer Vision', 'Reinforcement Learning'),\n",
       " ('Reinforcement Learning', 'Ethics in AI'),\n",
       " ('Ethics in AI', 'Artificial Intelligence Capstone 401'),\n",
       " ('Intro to Cybersecurity', 'Computer Networks'),\n",
       " ('Computer Networks', 'Operating Systems'),\n",
       " ('Operating Systems', 'Cryptography'),\n",
       " ('Cryptography', 'Network Security'),\n",
       " ('Network Security', 'System Security'),\n",
       " ('System Security', 'Ethical Hacking'),\n",
       " ('Ethical Hacking', 'Digital Forensics'),\n",
       " ('Digital Forensics', 'Security Policies'),\n",
       " ('Security Policies', 'Cybersecurity Capstone 401'),\n",
       " ('Intro to Cybersecurity', 'Computer Networks'),\n",
       " ('Computer Networks', 'Operating Systems'),\n",
       " ('Operating Systems', 'Cryptography'),\n",
       " ('Cryptography', 'Network Security'),\n",
       " ('Network Security', 'System Security'),\n",
       " ('System Security', 'Ethical Hacking'),\n",
       " ('Ethical Hacking', 'Digital Forensics'),\n",
       " ('Digital Forensics', 'Security Policies'),\n",
       " ('Security Policies', 'Cybersecurity Capstone 401'),\n",
       " ('Intro to Cybersecurity', 'Computer Networks'),\n",
       " ('Computer Networks', 'Operating Systems'),\n",
       " ('Operating Systems', 'Cryptography'),\n",
       " ('Cryptography', 'Network Security'),\n",
       " ('Network Security', 'System Security'),\n",
       " ('System Security', 'Ethical Hacking'),\n",
       " ('Ethical Hacking', 'Digital Forensics'),\n",
       " ('Digital Forensics', 'Security Policies'),\n",
       " ('Security Policies', 'Cybersecurity Capstone 401'),\n",
       " ('Intro to Cybersecurity', 'Computer Networks'),\n",
       " ('Computer Networks', 'Operating Systems'),\n",
       " ('Operating Systems', 'Cryptography'),\n",
       " ('Cryptography', 'Network Security'),\n",
       " ('Network Security', 'System Security'),\n",
       " ('System Security', 'Ethical Hacking'),\n",
       " ('Ethical Hacking', 'Digital Forensics'),\n",
       " ('Digital Forensics', 'Security Policies'),\n",
       " ('Security Policies', 'Cybersecurity Capstone 401'),\n",
       " ('Intro to Cybersecurity', 'Computer Networks'),\n",
       " ('Computer Networks', 'Operating Systems'),\n",
       " ('Operating Systems', 'Cryptography'),\n",
       " ('Cryptography', 'Network Security'),\n",
       " ('Network Security', 'System Security'),\n",
       " ('System Security', 'Ethical Hacking'),\n",
       " ('Ethical Hacking', 'Digital Forensics'),\n",
       " ('Digital Forensics', 'Security Policies'),\n",
       " ('Security Policies', 'Cybersecurity Capstone 401'),\n",
       " ('Intro to Cybersecurity', 'Computer Networks'),\n",
       " ('Computer Networks', 'Operating Systems'),\n",
       " ('Operating Systems', 'Cryptography'),\n",
       " ('Cryptography', 'Network Security'),\n",
       " ('Network Security', 'System Security'),\n",
       " ('System Security', 'Ethical Hacking'),\n",
       " ('Ethical Hacking', 'Digital Forensics'),\n",
       " ('Digital Forensics', 'Security Policies'),\n",
       " ('Security Policies', 'Cybersecurity Capstone 401'),\n",
       " ('Intro to Cybersecurity', 'Computer Networks'),\n",
       " ('Computer Networks', 'Operating Systems'),\n",
       " ('Operating Systems', 'Cryptography'),\n",
       " ('Cryptography', 'Network Security'),\n",
       " ('Network Security', 'System Security'),\n",
       " ('System Security', 'Ethical Hacking'),\n",
       " ('Ethical Hacking', 'Digital Forensics'),\n",
       " ('Digital Forensics', 'Security Policies'),\n",
       " ('Security Policies', 'Cybersecurity Capstone 401'),\n",
       " ('Intro to Cybersecurity', 'Computer Networks'),\n",
       " ('Computer Networks', 'Operating Systems'),\n",
       " ('Operating Systems', 'Cryptography'),\n",
       " ('Cryptography', 'Network Security'),\n",
       " ('Network Security', 'System Security'),\n",
       " ('System Security', 'Ethical Hacking'),\n",
       " ('Ethical Hacking', 'Digital Forensics'),\n",
       " ('Digital Forensics', 'Security Policies'),\n",
       " ('Security Policies', 'Cybersecurity Capstone 401'),\n",
       " ('Intro to Cybersecurity', 'Computer Networks'),\n",
       " ('Computer Networks', 'Operating Systems'),\n",
       " ('Operating Systems', 'Cryptography'),\n",
       " ('Cryptography', 'Network Security'),\n",
       " ('Network Security', 'System Security'),\n",
       " ('System Security', 'Ethical Hacking'),\n",
       " ('Ethical Hacking', 'Digital Forensics'),\n",
       " ('Digital Forensics', 'Security Policies'),\n",
       " ('Security Policies', 'Cybersecurity Capstone 401'),\n",
       " ('Intro to Cybersecurity', 'Computer Networks'),\n",
       " ('Computer Networks', 'Operating Systems'),\n",
       " ('Operating Systems', 'Cryptography'),\n",
       " ('Cryptography', 'Network Security'),\n",
       " ('Network Security', 'System Security'),\n",
       " ('System Security', 'Ethical Hacking'),\n",
       " ('Ethical Hacking', 'Digital Forensics'),\n",
       " ('Digital Forensics', 'Security Policies'),\n",
       " ('Security Policies', 'Cybersecurity Capstone 401'),\n",
       " ('Intro to Cybersecurity', 'Computer Networks'),\n",
       " ('Computer Networks', 'Operating Systems'),\n",
       " ('Operating Systems', 'Cryptography'),\n",
       " ('Cryptography', 'Network Security'),\n",
       " ('Network Security', 'System Security'),\n",
       " ('System Security', 'Ethical Hacking'),\n",
       " ('Ethical Hacking', 'Digital Forensics'),\n",
       " ('Digital Forensics', 'Security Policies'),\n",
       " ('Security Policies', 'Cybersecurity Capstone 401'),\n",
       " ('Intro to Cybersecurity', 'Computer Networks'),\n",
       " ('Computer Networks', 'Operating Systems'),\n",
       " ('Operating Systems', 'Cryptography'),\n",
       " ('Cryptography', 'Network Security'),\n",
       " ('Network Security', 'System Security'),\n",
       " ('System Security', 'Ethical Hacking'),\n",
       " ('Ethical Hacking', 'Digital Forensics'),\n",
       " ('Digital Forensics', 'Security Policies'),\n",
       " ('Security Policies', 'Cybersecurity Capstone 401'),\n",
       " ('Intro to Cybersecurity', 'Computer Networks'),\n",
       " ('Computer Networks', 'Operating Systems'),\n",
       " ('Operating Systems', 'Cryptography'),\n",
       " ('Cryptography', 'Network Security'),\n",
       " ('Network Security', 'System Security'),\n",
       " ('System Security', 'Ethical Hacking'),\n",
       " ('Ethical Hacking', 'Digital Forensics'),\n",
       " ('Digital Forensics', 'Security Policies'),\n",
       " ('Security Policies', 'Cybersecurity Capstone 401'),\n",
       " ('Intro to Cybersecurity', 'Computer Networks'),\n",
       " ('Computer Networks', 'Operating Systems'),\n",
       " ('Operating Systems', 'Cryptography'),\n",
       " ('Cryptography', 'Network Security'),\n",
       " ('Network Security', 'System Security'),\n",
       " ('System Security', 'Ethical Hacking'),\n",
       " ('Ethical Hacking', 'Digital Forensics'),\n",
       " ('Digital Forensics', 'Security Policies'),\n",
       " ('Security Policies', 'Cybersecurity Capstone 401'),\n",
       " ('Intro to Cybersecurity', 'Computer Networks'),\n",
       " ('Computer Networks', 'Operating Systems'),\n",
       " ('Operating Systems', 'Cryptography'),\n",
       " ('Cryptography', 'Network Security'),\n",
       " ('Network Security', 'System Security'),\n",
       " ('System Security', 'Ethical Hacking'),\n",
       " ('Ethical Hacking', 'Digital Forensics'),\n",
       " ('Digital Forensics', 'Security Policies'),\n",
       " ('Security Policies', 'Cybersecurity Capstone 401'),\n",
       " ('Intro to Cybersecurity', 'Computer Networks'),\n",
       " ('Computer Networks', 'Operating Systems'),\n",
       " ('Operating Systems', 'Cryptography'),\n",
       " ('Cryptography', 'Network Security'),\n",
       " ('Network Security', 'System Security'),\n",
       " ('System Security', 'Ethical Hacking'),\n",
       " ('Ethical Hacking', 'Digital Forensics'),\n",
       " ('Digital Forensics', 'Security Policies'),\n",
       " ('Security Policies', 'Cybersecurity Capstone 401'),\n",
       " ('Intro to Cybersecurity', 'Computer Networks'),\n",
       " ('Computer Networks', 'Operating Systems'),\n",
       " ('Operating Systems', 'Cryptography'),\n",
       " ('Cryptography', 'Network Security'),\n",
       " ('Network Security', 'System Security'),\n",
       " ('System Security', 'Ethical Hacking'),\n",
       " ('Ethical Hacking', 'Digital Forensics'),\n",
       " ('Digital Forensics', 'Security Policies'),\n",
       " ('Security Policies', 'Cybersecurity Capstone 401'),\n",
       " ('Intro to Cybersecurity', 'Computer Networks'),\n",
       " ('Computer Networks', 'Operating Systems'),\n",
       " ('Operating Systems', 'Cryptography'),\n",
       " ('Cryptography', 'Network Security'),\n",
       " ('Network Security', 'System Security'),\n",
       " ('System Security', 'Ethical Hacking'),\n",
       " ('Ethical Hacking', 'Digital Forensics'),\n",
       " ('Digital Forensics', 'Security Policies'),\n",
       " ('Security Policies', 'Cybersecurity Capstone 401'),\n",
       " ('Intro to Cybersecurity', 'Computer Networks'),\n",
       " ('Computer Networks', 'Operating Systems'),\n",
       " ('Operating Systems', 'Cryptography'),\n",
       " ('Cryptography', 'Network Security'),\n",
       " ('Network Security', 'System Security'),\n",
       " ('System Security', 'Ethical Hacking'),\n",
       " ('Ethical Hacking', 'Digital Forensics'),\n",
       " ('Digital Forensics', 'Security Policies'),\n",
       " ('Security Policies', 'Cybersecurity Capstone 401'),\n",
       " ('Intro to Cybersecurity', 'Computer Networks'),\n",
       " ('Computer Networks', 'Operating Systems'),\n",
       " ('Operating Systems', 'Cryptography'),\n",
       " ('Cryptography', 'Network Security'),\n",
       " ('Network Security', 'System Security'),\n",
       " ('System Security', 'Ethical Hacking'),\n",
       " ('Ethical Hacking', 'Digital Forensics'),\n",
       " ('Digital Forensics', 'Security Policies'),\n",
       " ('Security Policies', 'Cybersecurity Capstone 401'),\n",
       " ('Intro to Cybersecurity', 'Computer Networks'),\n",
       " ('Computer Networks', 'Operating Systems'),\n",
       " ('Operating Systems', 'Cryptography'),\n",
       " ('Cryptography', 'Network Security'),\n",
       " ('Network Security', 'System Security'),\n",
       " ('System Security', 'Ethical Hacking'),\n",
       " ('Ethical Hacking', 'Digital Forensics'),\n",
       " ('Digital Forensics', 'Security Policies'),\n",
       " ('Security Policies', 'Cybersecurity Capstone 401'),\n",
       " ('Intro to Cybersecurity', 'Computer Networks'),\n",
       " ('Computer Networks', 'Operating Systems'),\n",
       " ('Operating Systems', 'Cryptography'),\n",
       " ('Cryptography', 'Network Security'),\n",
       " ('Network Security', 'System Security'),\n",
       " ('System Security', 'Ethical Hacking'),\n",
       " ('Ethical Hacking', 'Digital Forensics'),\n",
       " ('Digital Forensics', 'Security Policies'),\n",
       " ('Security Policies', 'Cybersecurity Capstone 401'),\n",
       " ('Intro to Cybersecurity', 'Computer Networks'),\n",
       " ('Computer Networks', 'Operating Systems'),\n",
       " ('Operating Systems', 'Cryptography'),\n",
       " ('Cryptography', 'Network Security'),\n",
       " ('Network Security', 'System Security'),\n",
       " ('System Security', 'Ethical Hacking'),\n",
       " ('Ethical Hacking', 'Digital Forensics'),\n",
       " ('Digital Forensics', 'Security Policies'),\n",
       " ('Security Policies', 'Cybersecurity Capstone 401'),\n",
       " ('Intro to Cybersecurity', 'Computer Networks'),\n",
       " ('Computer Networks', 'Operating Systems'),\n",
       " ('Operating Systems', 'Cryptography'),\n",
       " ('Cryptography', 'Network Security'),\n",
       " ('Network Security', 'System Security'),\n",
       " ('System Security', 'Ethical Hacking'),\n",
       " ('Ethical Hacking', 'Digital Forensics'),\n",
       " ('Digital Forensics', 'Security Policies'),\n",
       " ('Security Policies', 'Cybersecurity Capstone 401'),\n",
       " ('Intro to Cybersecurity', 'Computer Networks'),\n",
       " ('Computer Networks', 'Operating Systems'),\n",
       " ('Operating Systems', 'Cryptography'),\n",
       " ('Cryptography', 'Network Security'),\n",
       " ('Network Security', 'System Security'),\n",
       " ('System Security', 'Ethical Hacking'),\n",
       " ('Ethical Hacking', 'Digital Forensics'),\n",
       " ('Digital Forensics', 'Security Policies'),\n",
       " ('Security Policies', 'Cybersecurity Capstone 401'),\n",
       " ('Intro to Cybersecurity', 'Computer Networks'),\n",
       " ('Computer Networks', 'Operating Systems'),\n",
       " ('Operating Systems', 'Cryptography'),\n",
       " ('Cryptography', 'Network Security'),\n",
       " ('Network Security', 'System Security'),\n",
       " ('System Security', 'Ethical Hacking'),\n",
       " ('Ethical Hacking', 'Digital Forensics'),\n",
       " ('Digital Forensics', 'Security Policies'),\n",
       " ('Security Policies', 'Cybersecurity Capstone 401'),\n",
       " ('Intro to Cybersecurity', 'Computer Networks'),\n",
       " ('Computer Networks', 'Operating Systems'),\n",
       " ('Operating Systems', 'Cryptography'),\n",
       " ('Cryptography', 'Network Security'),\n",
       " ('Network Security', 'System Security'),\n",
       " ('System Security', 'Ethical Hacking'),\n",
       " ('Ethical Hacking', 'Digital Forensics'),\n",
       " ('Digital Forensics', 'Security Policies'),\n",
       " ('Security Policies', 'Cybersecurity Capstone 401'),\n",
       " ('Intro to Cybersecurity', 'Computer Networks'),\n",
       " ('Computer Networks', 'Operating Systems'),\n",
       " ('Operating Systems', 'Cryptography'),\n",
       " ('Cryptography', 'Network Security'),\n",
       " ('Network Security', 'System Security'),\n",
       " ('System Security', 'Ethical Hacking'),\n",
       " ('Ethical Hacking', 'Digital Forensics'),\n",
       " ('Digital Forensics', 'Security Policies'),\n",
       " ('Security Policies', 'Cybersecurity Capstone 401'),\n",
       " ('Intro to Cybersecurity', 'Computer Networks'),\n",
       " ('Computer Networks', 'Operating Systems'),\n",
       " ('Operating Systems', 'Cryptography'),\n",
       " ('Cryptography', 'Network Security'),\n",
       " ('Network Security', 'System Security'),\n",
       " ('System Security', 'Ethical Hacking'),\n",
       " ('Ethical Hacking', 'Digital Forensics'),\n",
       " ('Digital Forensics', 'Security Policies'),\n",
       " ('Security Policies', 'Cybersecurity Capstone 401'),\n",
       " ('Intro to Cybersecurity', 'Computer Networks'),\n",
       " ('Computer Networks', 'Operating Systems'),\n",
       " ('Operating Systems', 'Cryptography'),\n",
       " ('Cryptography', 'Network Security'),\n",
       " ('Network Security', 'System Security'),\n",
       " ('System Security', 'Ethical Hacking'),\n",
       " ('Ethical Hacking', 'Digital Forensics'),\n",
       " ('Digital Forensics', 'Security Policies'),\n",
       " ('Security Policies', 'Cybersecurity Capstone 401'),\n",
       " ('Intro to Cybersecurity', 'Computer Networks'),\n",
       " ('Computer Networks', 'Operating Systems'),\n",
       " ('Operating Systems', 'Cryptography'),\n",
       " ('Cryptography', 'Network Security'),\n",
       " ('Network Security', 'System Security'),\n",
       " ('System Security', 'Ethical Hacking'),\n",
       " ('Ethical Hacking', 'Digital Forensics'),\n",
       " ('Digital Forensics', 'Security Policies'),\n",
       " ('Security Policies', 'Cybersecurity Capstone 401'),\n",
       " ('Intro to Cybersecurity', 'Computer Networks'),\n",
       " ...]"
      ]
     },
     "execution_count": 87,
     "metadata": {},
     "output_type": "execute_result"
    }
   ],
   "source": [
    "transition_list = []\n",
    "\n",
    "\n",
    "for row in pathways_filtered['CoursePath']:\n",
    "    for i in range(len(row) - 1):\n",
    "        first_course = row[i]\n",
    "        next_course = row[i + 1]\n",
    "        transition_list.append((first_course, next_course))\n",
    "\n",
    "transition_list"
   ]
  },
  {
   "cell_type": "code",
   "execution_count": 115,
   "id": "4b8dffea",
   "metadata": {},
   "outputs": [
    {
     "data": {
      "text/html": [
       "<div>\n",
       "<style scoped>\n",
       "    .dataframe tbody tr th:only-of-type {\n",
       "        vertical-align: middle;\n",
       "    }\n",
       "\n",
       "    .dataframe tbody tr th {\n",
       "        vertical-align: top;\n",
       "    }\n",
       "\n",
       "    .dataframe thead th {\n",
       "        text-align: right;\n",
       "    }\n",
       "</style>\n",
       "<table border=\"1\" class=\"dataframe\">\n",
       "  <thead>\n",
       "    <tr style=\"text-align: right;\">\n",
       "      <th></th>\n",
       "      <th>First Course</th>\n",
       "      <th>Next Course</th>\n",
       "    </tr>\n",
       "  </thead>\n",
       "  <tbody>\n",
       "    <tr>\n",
       "      <th>0</th>\n",
       "      <td>Intro to Python</td>\n",
       "      <td>Statistics I</td>\n",
       "    </tr>\n",
       "    <tr>\n",
       "      <th>1</th>\n",
       "      <td>Statistics I</td>\n",
       "      <td>Linear Algebra</td>\n",
       "    </tr>\n",
       "    <tr>\n",
       "      <th>2</th>\n",
       "      <td>Linear Algebra</td>\n",
       "      <td>Data Wrangling</td>\n",
       "    </tr>\n",
       "    <tr>\n",
       "      <th>3</th>\n",
       "      <td>Data Wrangling</td>\n",
       "      <td>Data Visualization</td>\n",
       "    </tr>\n",
       "    <tr>\n",
       "      <th>4</th>\n",
       "      <td>Data Visualization</td>\n",
       "      <td>Machine Learning</td>\n",
       "    </tr>\n",
       "    <tr>\n",
       "      <th>...</th>\n",
       "      <td>...</td>\n",
       "      <td>...</td>\n",
       "    </tr>\n",
       "    <tr>\n",
       "      <th>1075</th>\n",
       "      <td>Network Security</td>\n",
       "      <td>System Security</td>\n",
       "    </tr>\n",
       "    <tr>\n",
       "      <th>1076</th>\n",
       "      <td>System Security</td>\n",
       "      <td>Ethical Hacking</td>\n",
       "    </tr>\n",
       "    <tr>\n",
       "      <th>1077</th>\n",
       "      <td>Ethical Hacking</td>\n",
       "      <td>Digital Forensics</td>\n",
       "    </tr>\n",
       "    <tr>\n",
       "      <th>1078</th>\n",
       "      <td>Digital Forensics</td>\n",
       "      <td>Security Policies</td>\n",
       "    </tr>\n",
       "    <tr>\n",
       "      <th>1079</th>\n",
       "      <td>Security Policies</td>\n",
       "      <td>Cybersecurity Capstone 401</td>\n",
       "    </tr>\n",
       "  </tbody>\n",
       "</table>\n",
       "<p>1080 rows × 2 columns</p>\n",
       "</div>"
      ],
      "text/plain": [
       "            First Course                 Next Course\n",
       "0        Intro to Python                Statistics I\n",
       "1           Statistics I              Linear Algebra\n",
       "2         Linear Algebra              Data Wrangling\n",
       "3         Data Wrangling          Data Visualization\n",
       "4     Data Visualization            Machine Learning\n",
       "...                  ...                         ...\n",
       "1075    Network Security             System Security\n",
       "1076     System Security             Ethical Hacking\n",
       "1077     Ethical Hacking           Digital Forensics\n",
       "1078   Digital Forensics           Security Policies\n",
       "1079   Security Policies  Cybersecurity Capstone 401\n",
       "\n",
       "[1080 rows x 2 columns]"
      ]
     },
     "execution_count": 115,
     "metadata": {},
     "output_type": "execute_result"
    }
   ],
   "source": [
    "transition_df = pd.DataFrame(transition_list, columns=['First Course', 'Next Course'])\n",
    "transition_df"
   ]
  },
  {
   "cell_type": "code",
   "execution_count": 113,
   "id": "bc18afbc",
   "metadata": {},
   "outputs": [
    {
     "data": {
      "text/html": [
       "<div>\n",
       "<style scoped>\n",
       "    .dataframe tbody tr th:only-of-type {\n",
       "        vertical-align: middle;\n",
       "    }\n",
       "\n",
       "    .dataframe tbody tr th {\n",
       "        vertical-align: top;\n",
       "    }\n",
       "\n",
       "    .dataframe thead th {\n",
       "        text-align: right;\n",
       "    }\n",
       "</style>\n",
       "<table border=\"1\" class=\"dataframe\">\n",
       "  <thead>\n",
       "    <tr style=\"text-align: right;\">\n",
       "      <th></th>\n",
       "      <th>First Course</th>\n",
       "      <th>Next Course</th>\n",
       "      <th>Count</th>\n",
       "    </tr>\n",
       "  </thead>\n",
       "  <tbody>\n",
       "    <tr>\n",
       "      <th>0</th>\n",
       "      <td>Big Data Analytics</td>\n",
       "      <td>Database Systems</td>\n",
       "      <td>40</td>\n",
       "    </tr>\n",
       "    <tr>\n",
       "      <th>1</th>\n",
       "      <td>Computer Networks</td>\n",
       "      <td>Operating Systems</td>\n",
       "      <td>40</td>\n",
       "    </tr>\n",
       "    <tr>\n",
       "      <th>2</th>\n",
       "      <td>Computer Vision</td>\n",
       "      <td>Reinforcement Learning</td>\n",
       "      <td>40</td>\n",
       "    </tr>\n",
       "    <tr>\n",
       "      <th>3</th>\n",
       "      <td>Cryptography</td>\n",
       "      <td>Network Security</td>\n",
       "      <td>40</td>\n",
       "    </tr>\n",
       "    <tr>\n",
       "      <th>4</th>\n",
       "      <td>Data Mining</td>\n",
       "      <td>Data Science Capstone 401</td>\n",
       "      <td>40</td>\n",
       "    </tr>\n",
       "    <tr>\n",
       "      <th>5</th>\n",
       "      <td>Data Visualization</td>\n",
       "      <td>Machine Learning</td>\n",
       "      <td>40</td>\n",
       "    </tr>\n",
       "    <tr>\n",
       "      <th>6</th>\n",
       "      <td>Data Wrangling</td>\n",
       "      <td>Data Visualization</td>\n",
       "      <td>40</td>\n",
       "    </tr>\n",
       "    <tr>\n",
       "      <th>7</th>\n",
       "      <td>Database Systems</td>\n",
       "      <td>Data Mining</td>\n",
       "      <td>40</td>\n",
       "    </tr>\n",
       "    <tr>\n",
       "      <th>8</th>\n",
       "      <td>Deep Learning</td>\n",
       "      <td>Computer Vision</td>\n",
       "      <td>40</td>\n",
       "    </tr>\n",
       "    <tr>\n",
       "      <th>9</th>\n",
       "      <td>Digital Forensics</td>\n",
       "      <td>Security Policies</td>\n",
       "      <td>40</td>\n",
       "    </tr>\n",
       "    <tr>\n",
       "      <th>10</th>\n",
       "      <td>Ethical Hacking</td>\n",
       "      <td>Digital Forensics</td>\n",
       "      <td>40</td>\n",
       "    </tr>\n",
       "    <tr>\n",
       "      <th>11</th>\n",
       "      <td>Ethics in AI</td>\n",
       "      <td>Artificial Intelligence Capstone 401</td>\n",
       "      <td>40</td>\n",
       "    </tr>\n",
       "    <tr>\n",
       "      <th>12</th>\n",
       "      <td>Intro to Cybersecurity</td>\n",
       "      <td>Computer Networks</td>\n",
       "      <td>40</td>\n",
       "    </tr>\n",
       "    <tr>\n",
       "      <th>13</th>\n",
       "      <td>Intro to Python</td>\n",
       "      <td>Probability &amp; Statistics</td>\n",
       "      <td>40</td>\n",
       "    </tr>\n",
       "    <tr>\n",
       "      <th>14</th>\n",
       "      <td>Intro to Python</td>\n",
       "      <td>Statistics I</td>\n",
       "      <td>40</td>\n",
       "    </tr>\n",
       "    <tr>\n",
       "      <th>15</th>\n",
       "      <td>Linear Algebra</td>\n",
       "      <td>Data Wrangling</td>\n",
       "      <td>40</td>\n",
       "    </tr>\n",
       "    <tr>\n",
       "      <th>16</th>\n",
       "      <td>Linear Algebra</td>\n",
       "      <td>Machine Learning</td>\n",
       "      <td>40</td>\n",
       "    </tr>\n",
       "    <tr>\n",
       "      <th>17</th>\n",
       "      <td>Machine Learning</td>\n",
       "      <td>Big Data Analytics</td>\n",
       "      <td>40</td>\n",
       "    </tr>\n",
       "    <tr>\n",
       "      <th>18</th>\n",
       "      <td>Machine Learning</td>\n",
       "      <td>Neural Networks</td>\n",
       "      <td>40</td>\n",
       "    </tr>\n",
       "    <tr>\n",
       "      <th>19</th>\n",
       "      <td>Network Security</td>\n",
       "      <td>System Security</td>\n",
       "      <td>40</td>\n",
       "    </tr>\n",
       "    <tr>\n",
       "      <th>20</th>\n",
       "      <td>Neural Networks</td>\n",
       "      <td>Deep Learning</td>\n",
       "      <td>40</td>\n",
       "    </tr>\n",
       "    <tr>\n",
       "      <th>21</th>\n",
       "      <td>Operating Systems</td>\n",
       "      <td>Cryptography</td>\n",
       "      <td>40</td>\n",
       "    </tr>\n",
       "    <tr>\n",
       "      <th>22</th>\n",
       "      <td>Probability &amp; Statistics</td>\n",
       "      <td>Linear Algebra</td>\n",
       "      <td>40</td>\n",
       "    </tr>\n",
       "    <tr>\n",
       "      <th>23</th>\n",
       "      <td>Reinforcement Learning</td>\n",
       "      <td>Ethics in AI</td>\n",
       "      <td>40</td>\n",
       "    </tr>\n",
       "    <tr>\n",
       "      <th>24</th>\n",
       "      <td>Security Policies</td>\n",
       "      <td>Cybersecurity Capstone 401</td>\n",
       "      <td>40</td>\n",
       "    </tr>\n",
       "    <tr>\n",
       "      <th>25</th>\n",
       "      <td>Statistics I</td>\n",
       "      <td>Linear Algebra</td>\n",
       "      <td>40</td>\n",
       "    </tr>\n",
       "    <tr>\n",
       "      <th>26</th>\n",
       "      <td>System Security</td>\n",
       "      <td>Ethical Hacking</td>\n",
       "      <td>40</td>\n",
       "    </tr>\n",
       "  </tbody>\n",
       "</table>\n",
       "</div>"
      ],
      "text/plain": [
       "                First Course                           Next Course  Count\n",
       "0         Big Data Analytics                      Database Systems     40\n",
       "1          Computer Networks                     Operating Systems     40\n",
       "2            Computer Vision                Reinforcement Learning     40\n",
       "3               Cryptography                      Network Security     40\n",
       "4                Data Mining             Data Science Capstone 401     40\n",
       "5         Data Visualization                      Machine Learning     40\n",
       "6             Data Wrangling                    Data Visualization     40\n",
       "7           Database Systems                           Data Mining     40\n",
       "8              Deep Learning                       Computer Vision     40\n",
       "9          Digital Forensics                     Security Policies     40\n",
       "10           Ethical Hacking                     Digital Forensics     40\n",
       "11              Ethics in AI  Artificial Intelligence Capstone 401     40\n",
       "12    Intro to Cybersecurity                     Computer Networks     40\n",
       "13           Intro to Python              Probability & Statistics     40\n",
       "14           Intro to Python                          Statistics I     40\n",
       "15            Linear Algebra                        Data Wrangling     40\n",
       "16            Linear Algebra                      Machine Learning     40\n",
       "17          Machine Learning                    Big Data Analytics     40\n",
       "18          Machine Learning                       Neural Networks     40\n",
       "19          Network Security                       System Security     40\n",
       "20           Neural Networks                         Deep Learning     40\n",
       "21         Operating Systems                          Cryptography     40\n",
       "22  Probability & Statistics                        Linear Algebra     40\n",
       "23    Reinforcement Learning                          Ethics in AI     40\n",
       "24         Security Policies            Cybersecurity Capstone 401     40\n",
       "25              Statistics I                        Linear Algebra     40\n",
       "26           System Security                       Ethical Hacking     40"
      ]
     },
     "execution_count": 113,
     "metadata": {},
     "output_type": "execute_result"
    }
   ],
   "source": [
    "transition_count_df = (\n",
    "    transition_df.groupby(['First Course', 'Next Course']).size().reset_index(name='Count')\n",
    ")\n",
    "\n",
    "transition_count_df"
   ]
  },
  {
   "cell_type": "markdown",
   "id": "78e49c46",
   "metadata": {},
   "source": [
    "3. The Sankey Diagram"
   ]
  },
  {
   "cell_type": "code",
   "execution_count": null,
   "id": "1232aefb",
   "metadata": {},
   "outputs": [
    {
     "data": {
      "application/vnd.plotly.v1+json": {
       "config": {
        "plotlyServerURL": "https://plot.ly"
       },
       "data": [
        {
         "link": {
          "source": [
           0,
           1,
           2,
           3,
           4,
           5,
           6,
           7,
           8,
           9,
           10,
           11,
           12,
           13,
           13,
           14,
           14,
           15,
           15,
           16,
           17,
           18,
           19,
           20,
           21,
           22,
           23
          ],
          "target": [
           7,
           18,
           20,
           16,
           24,
           15,
           5,
           4,
           2,
           21,
           9,
           25,
           1,
           19,
           22,
           6,
           15,
           0,
           17,
           23,
           8,
           3,
           14,
           11,
           26,
           14,
           10
          ],
          "value": [
           40,
           40,
           40,
           40,
           40,
           40,
           40,
           40,
           40,
           40,
           40,
           40,
           40,
           40,
           40,
           40,
           40,
           40,
           40,
           40,
           40,
           40,
           40,
           40,
           40,
           40,
           40
          ]
         },
         "node": {
          "label": [
           "Big Data Analytics",
           "Computer Networks",
           "Computer Vision",
           "Cryptography",
           "Data Mining",
           "Data Visualization",
           "Data Wrangling",
           "Database Systems",
           "Deep Learning",
           "Digital Forensics",
           "Ethical Hacking",
           "Ethics in AI",
           "Intro to Cybersecurity",
           "Intro to Python",
           "Linear Algebra",
           "Machine Learning",
           "Network Security",
           "Neural Networks",
           "Operating Systems",
           "Probability & Statistics",
           "Reinforcement Learning",
           "Security Policies",
           "Statistics I",
           "System Security",
           "Data Science Capstone 401",
           "Artificial Intelligence Capstone 401",
           "Cybersecurity Capstone 401"
          ]
         },
         "type": "sankey"
        }
       ],
       "layout": {
        "template": {
         "data": {
          "bar": [
           {
            "error_x": {
             "color": "#2a3f5f"
            },
            "error_y": {
             "color": "#2a3f5f"
            },
            "marker": {
             "line": {
              "color": "#E5ECF6",
              "width": 0.5
             },
             "pattern": {
              "fillmode": "overlay",
              "size": 10,
              "solidity": 0.2
             }
            },
            "type": "bar"
           }
          ],
          "barpolar": [
           {
            "marker": {
             "line": {
              "color": "#E5ECF6",
              "width": 0.5
             },
             "pattern": {
              "fillmode": "overlay",
              "size": 10,
              "solidity": 0.2
             }
            },
            "type": "barpolar"
           }
          ],
          "carpet": [
           {
            "aaxis": {
             "endlinecolor": "#2a3f5f",
             "gridcolor": "white",
             "linecolor": "white",
             "minorgridcolor": "white",
             "startlinecolor": "#2a3f5f"
            },
            "baxis": {
             "endlinecolor": "#2a3f5f",
             "gridcolor": "white",
             "linecolor": "white",
             "minorgridcolor": "white",
             "startlinecolor": "#2a3f5f"
            },
            "type": "carpet"
           }
          ],
          "choropleth": [
           {
            "colorbar": {
             "outlinewidth": 0,
             "ticks": ""
            },
            "type": "choropleth"
           }
          ],
          "contour": [
           {
            "colorbar": {
             "outlinewidth": 0,
             "ticks": ""
            },
            "colorscale": [
             [
              0,
              "#0d0887"
             ],
             [
              0.1111111111111111,
              "#46039f"
             ],
             [
              0.2222222222222222,
              "#7201a8"
             ],
             [
              0.3333333333333333,
              "#9c179e"
             ],
             [
              0.4444444444444444,
              "#bd3786"
             ],
             [
              0.5555555555555556,
              "#d8576b"
             ],
             [
              0.6666666666666666,
              "#ed7953"
             ],
             [
              0.7777777777777778,
              "#fb9f3a"
             ],
             [
              0.8888888888888888,
              "#fdca26"
             ],
             [
              1,
              "#f0f921"
             ]
            ],
            "type": "contour"
           }
          ],
          "contourcarpet": [
           {
            "colorbar": {
             "outlinewidth": 0,
             "ticks": ""
            },
            "type": "contourcarpet"
           }
          ],
          "heatmap": [
           {
            "colorbar": {
             "outlinewidth": 0,
             "ticks": ""
            },
            "colorscale": [
             [
              0,
              "#0d0887"
             ],
             [
              0.1111111111111111,
              "#46039f"
             ],
             [
              0.2222222222222222,
              "#7201a8"
             ],
             [
              0.3333333333333333,
              "#9c179e"
             ],
             [
              0.4444444444444444,
              "#bd3786"
             ],
             [
              0.5555555555555556,
              "#d8576b"
             ],
             [
              0.6666666666666666,
              "#ed7953"
             ],
             [
              0.7777777777777778,
              "#fb9f3a"
             ],
             [
              0.8888888888888888,
              "#fdca26"
             ],
             [
              1,
              "#f0f921"
             ]
            ],
            "type": "heatmap"
           }
          ],
          "heatmapgl": [
           {
            "colorbar": {
             "outlinewidth": 0,
             "ticks": ""
            },
            "colorscale": [
             [
              0,
              "#0d0887"
             ],
             [
              0.1111111111111111,
              "#46039f"
             ],
             [
              0.2222222222222222,
              "#7201a8"
             ],
             [
              0.3333333333333333,
              "#9c179e"
             ],
             [
              0.4444444444444444,
              "#bd3786"
             ],
             [
              0.5555555555555556,
              "#d8576b"
             ],
             [
              0.6666666666666666,
              "#ed7953"
             ],
             [
              0.7777777777777778,
              "#fb9f3a"
             ],
             [
              0.8888888888888888,
              "#fdca26"
             ],
             [
              1,
              "#f0f921"
             ]
            ],
            "type": "heatmapgl"
           }
          ],
          "histogram": [
           {
            "marker": {
             "pattern": {
              "fillmode": "overlay",
              "size": 10,
              "solidity": 0.2
             }
            },
            "type": "histogram"
           }
          ],
          "histogram2d": [
           {
            "colorbar": {
             "outlinewidth": 0,
             "ticks": ""
            },
            "colorscale": [
             [
              0,
              "#0d0887"
             ],
             [
              0.1111111111111111,
              "#46039f"
             ],
             [
              0.2222222222222222,
              "#7201a8"
             ],
             [
              0.3333333333333333,
              "#9c179e"
             ],
             [
              0.4444444444444444,
              "#bd3786"
             ],
             [
              0.5555555555555556,
              "#d8576b"
             ],
             [
              0.6666666666666666,
              "#ed7953"
             ],
             [
              0.7777777777777778,
              "#fb9f3a"
             ],
             [
              0.8888888888888888,
              "#fdca26"
             ],
             [
              1,
              "#f0f921"
             ]
            ],
            "type": "histogram2d"
           }
          ],
          "histogram2dcontour": [
           {
            "colorbar": {
             "outlinewidth": 0,
             "ticks": ""
            },
            "colorscale": [
             [
              0,
              "#0d0887"
             ],
             [
              0.1111111111111111,
              "#46039f"
             ],
             [
              0.2222222222222222,
              "#7201a8"
             ],
             [
              0.3333333333333333,
              "#9c179e"
             ],
             [
              0.4444444444444444,
              "#bd3786"
             ],
             [
              0.5555555555555556,
              "#d8576b"
             ],
             [
              0.6666666666666666,
              "#ed7953"
             ],
             [
              0.7777777777777778,
              "#fb9f3a"
             ],
             [
              0.8888888888888888,
              "#fdca26"
             ],
             [
              1,
              "#f0f921"
             ]
            ],
            "type": "histogram2dcontour"
           }
          ],
          "mesh3d": [
           {
            "colorbar": {
             "outlinewidth": 0,
             "ticks": ""
            },
            "type": "mesh3d"
           }
          ],
          "parcoords": [
           {
            "line": {
             "colorbar": {
              "outlinewidth": 0,
              "ticks": ""
             }
            },
            "type": "parcoords"
           }
          ],
          "pie": [
           {
            "automargin": true,
            "type": "pie"
           }
          ],
          "scatter": [
           {
            "fillpattern": {
             "fillmode": "overlay",
             "size": 10,
             "solidity": 0.2
            },
            "type": "scatter"
           }
          ],
          "scatter3d": [
           {
            "line": {
             "colorbar": {
              "outlinewidth": 0,
              "ticks": ""
             }
            },
            "marker": {
             "colorbar": {
              "outlinewidth": 0,
              "ticks": ""
             }
            },
            "type": "scatter3d"
           }
          ],
          "scattercarpet": [
           {
            "marker": {
             "colorbar": {
              "outlinewidth": 0,
              "ticks": ""
             }
            },
            "type": "scattercarpet"
           }
          ],
          "scattergeo": [
           {
            "marker": {
             "colorbar": {
              "outlinewidth": 0,
              "ticks": ""
             }
            },
            "type": "scattergeo"
           }
          ],
          "scattergl": [
           {
            "marker": {
             "colorbar": {
              "outlinewidth": 0,
              "ticks": ""
             }
            },
            "type": "scattergl"
           }
          ],
          "scattermapbox": [
           {
            "marker": {
             "colorbar": {
              "outlinewidth": 0,
              "ticks": ""
             }
            },
            "type": "scattermapbox"
           }
          ],
          "scatterpolar": [
           {
            "marker": {
             "colorbar": {
              "outlinewidth": 0,
              "ticks": ""
             }
            },
            "type": "scatterpolar"
           }
          ],
          "scatterpolargl": [
           {
            "marker": {
             "colorbar": {
              "outlinewidth": 0,
              "ticks": ""
             }
            },
            "type": "scatterpolargl"
           }
          ],
          "scatterternary": [
           {
            "marker": {
             "colorbar": {
              "outlinewidth": 0,
              "ticks": ""
             }
            },
            "type": "scatterternary"
           }
          ],
          "surface": [
           {
            "colorbar": {
             "outlinewidth": 0,
             "ticks": ""
            },
            "colorscale": [
             [
              0,
              "#0d0887"
             ],
             [
              0.1111111111111111,
              "#46039f"
             ],
             [
              0.2222222222222222,
              "#7201a8"
             ],
             [
              0.3333333333333333,
              "#9c179e"
             ],
             [
              0.4444444444444444,
              "#bd3786"
             ],
             [
              0.5555555555555556,
              "#d8576b"
             ],
             [
              0.6666666666666666,
              "#ed7953"
             ],
             [
              0.7777777777777778,
              "#fb9f3a"
             ],
             [
              0.8888888888888888,
              "#fdca26"
             ],
             [
              1,
              "#f0f921"
             ]
            ],
            "type": "surface"
           }
          ],
          "table": [
           {
            "cells": {
             "fill": {
              "color": "#EBF0F8"
             },
             "line": {
              "color": "white"
             }
            },
            "header": {
             "fill": {
              "color": "#C8D4E3"
             },
             "line": {
              "color": "white"
             }
            },
            "type": "table"
           }
          ]
         },
         "layout": {
          "annotationdefaults": {
           "arrowcolor": "#2a3f5f",
           "arrowhead": 0,
           "arrowwidth": 1
          },
          "autotypenumbers": "strict",
          "coloraxis": {
           "colorbar": {
            "outlinewidth": 0,
            "ticks": ""
           }
          },
          "colorscale": {
           "diverging": [
            [
             0,
             "#8e0152"
            ],
            [
             0.1,
             "#c51b7d"
            ],
            [
             0.2,
             "#de77ae"
            ],
            [
             0.3,
             "#f1b6da"
            ],
            [
             0.4,
             "#fde0ef"
            ],
            [
             0.5,
             "#f7f7f7"
            ],
            [
             0.6,
             "#e6f5d0"
            ],
            [
             0.7,
             "#b8e186"
            ],
            [
             0.8,
             "#7fbc41"
            ],
            [
             0.9,
             "#4d9221"
            ],
            [
             1,
             "#276419"
            ]
           ],
           "sequential": [
            [
             0,
             "#0d0887"
            ],
            [
             0.1111111111111111,
             "#46039f"
            ],
            [
             0.2222222222222222,
             "#7201a8"
            ],
            [
             0.3333333333333333,
             "#9c179e"
            ],
            [
             0.4444444444444444,
             "#bd3786"
            ],
            [
             0.5555555555555556,
             "#d8576b"
            ],
            [
             0.6666666666666666,
             "#ed7953"
            ],
            [
             0.7777777777777778,
             "#fb9f3a"
            ],
            [
             0.8888888888888888,
             "#fdca26"
            ],
            [
             1,
             "#f0f921"
            ]
           ],
           "sequentialminus": [
            [
             0,
             "#0d0887"
            ],
            [
             0.1111111111111111,
             "#46039f"
            ],
            [
             0.2222222222222222,
             "#7201a8"
            ],
            [
             0.3333333333333333,
             "#9c179e"
            ],
            [
             0.4444444444444444,
             "#bd3786"
            ],
            [
             0.5555555555555556,
             "#d8576b"
            ],
            [
             0.6666666666666666,
             "#ed7953"
            ],
            [
             0.7777777777777778,
             "#fb9f3a"
            ],
            [
             0.8888888888888888,
             "#fdca26"
            ],
            [
             1,
             "#f0f921"
            ]
           ]
          },
          "colorway": [
           "#636efa",
           "#EF553B",
           "#00cc96",
           "#ab63fa",
           "#FFA15A",
           "#19d3f3",
           "#FF6692",
           "#B6E880",
           "#FF97FF",
           "#FECB52"
          ],
          "font": {
           "color": "#2a3f5f"
          },
          "geo": {
           "bgcolor": "white",
           "lakecolor": "white",
           "landcolor": "#E5ECF6",
           "showlakes": true,
           "showland": true,
           "subunitcolor": "white"
          },
          "hoverlabel": {
           "align": "left"
          },
          "hovermode": "closest",
          "mapbox": {
           "style": "light"
          },
          "paper_bgcolor": "white",
          "plot_bgcolor": "#E5ECF6",
          "polar": {
           "angularaxis": {
            "gridcolor": "white",
            "linecolor": "white",
            "ticks": ""
           },
           "bgcolor": "#E5ECF6",
           "radialaxis": {
            "gridcolor": "white",
            "linecolor": "white",
            "ticks": ""
           }
          },
          "scene": {
           "xaxis": {
            "backgroundcolor": "#E5ECF6",
            "gridcolor": "white",
            "gridwidth": 2,
            "linecolor": "white",
            "showbackground": true,
            "ticks": "",
            "zerolinecolor": "white"
           },
           "yaxis": {
            "backgroundcolor": "#E5ECF6",
            "gridcolor": "white",
            "gridwidth": 2,
            "linecolor": "white",
            "showbackground": true,
            "ticks": "",
            "zerolinecolor": "white"
           },
           "zaxis": {
            "backgroundcolor": "#E5ECF6",
            "gridcolor": "white",
            "gridwidth": 2,
            "linecolor": "white",
            "showbackground": true,
            "ticks": "",
            "zerolinecolor": "white"
           }
          },
          "shapedefaults": {
           "line": {
            "color": "#2a3f5f"
           }
          },
          "ternary": {
           "aaxis": {
            "gridcolor": "white",
            "linecolor": "white",
            "ticks": ""
           },
           "baxis": {
            "gridcolor": "white",
            "linecolor": "white",
            "ticks": ""
           },
           "bgcolor": "#E5ECF6",
           "caxis": {
            "gridcolor": "white",
            "linecolor": "white",
            "ticks": ""
           }
          },
          "title": {
           "x": 0.05
          },
          "xaxis": {
           "automargin": true,
           "gridcolor": "white",
           "linecolor": "white",
           "ticks": "",
           "title": {
            "standoff": 15
           },
           "zerolinecolor": "white",
           "zerolinewidth": 2
          },
          "yaxis": {
           "automargin": true,
           "gridcolor": "white",
           "linecolor": "white",
           "ticks": "",
           "title": {
            "standoff": 15
           },
           "zerolinecolor": "white",
           "zerolinewidth": 2
          }
         }
        }
       }
      }
     },
     "metadata": {},
     "output_type": "display_data"
    },
    {
     "data": {
      "text/html": [
       "<div>\n",
       "<style scoped>\n",
       "    .dataframe tbody tr th:only-of-type {\n",
       "        vertical-align: middle;\n",
       "    }\n",
       "\n",
       "    .dataframe tbody tr th {\n",
       "        vertical-align: top;\n",
       "    }\n",
       "\n",
       "    .dataframe thead th {\n",
       "        text-align: right;\n",
       "    }\n",
       "</style>\n",
       "<table border=\"1\" class=\"dataframe\">\n",
       "  <thead>\n",
       "    <tr style=\"text-align: right;\">\n",
       "      <th></th>\n",
       "      <th>First Course</th>\n",
       "      <th>Next Course</th>\n",
       "      <th>Count</th>\n",
       "      <th>first_index</th>\n",
       "      <th>next_index</th>\n",
       "    </tr>\n",
       "  </thead>\n",
       "  <tbody>\n",
       "    <tr>\n",
       "      <th>0</th>\n",
       "      <td>Big Data Analytics</td>\n",
       "      <td>Database Systems</td>\n",
       "      <td>40</td>\n",
       "      <td>0</td>\n",
       "      <td>7</td>\n",
       "    </tr>\n",
       "    <tr>\n",
       "      <th>1</th>\n",
       "      <td>Computer Networks</td>\n",
       "      <td>Operating Systems</td>\n",
       "      <td>40</td>\n",
       "      <td>1</td>\n",
       "      <td>18</td>\n",
       "    </tr>\n",
       "    <tr>\n",
       "      <th>2</th>\n",
       "      <td>Computer Vision</td>\n",
       "      <td>Reinforcement Learning</td>\n",
       "      <td>40</td>\n",
       "      <td>2</td>\n",
       "      <td>20</td>\n",
       "    </tr>\n",
       "    <tr>\n",
       "      <th>3</th>\n",
       "      <td>Cryptography</td>\n",
       "      <td>Network Security</td>\n",
       "      <td>40</td>\n",
       "      <td>3</td>\n",
       "      <td>16</td>\n",
       "    </tr>\n",
       "    <tr>\n",
       "      <th>4</th>\n",
       "      <td>Data Mining</td>\n",
       "      <td>Data Science Capstone 401</td>\n",
       "      <td>40</td>\n",
       "      <td>4</td>\n",
       "      <td>24</td>\n",
       "    </tr>\n",
       "    <tr>\n",
       "      <th>5</th>\n",
       "      <td>Data Visualization</td>\n",
       "      <td>Machine Learning</td>\n",
       "      <td>40</td>\n",
       "      <td>5</td>\n",
       "      <td>15</td>\n",
       "    </tr>\n",
       "    <tr>\n",
       "      <th>6</th>\n",
       "      <td>Data Wrangling</td>\n",
       "      <td>Data Visualization</td>\n",
       "      <td>40</td>\n",
       "      <td>6</td>\n",
       "      <td>5</td>\n",
       "    </tr>\n",
       "    <tr>\n",
       "      <th>7</th>\n",
       "      <td>Database Systems</td>\n",
       "      <td>Data Mining</td>\n",
       "      <td>40</td>\n",
       "      <td>7</td>\n",
       "      <td>4</td>\n",
       "    </tr>\n",
       "    <tr>\n",
       "      <th>8</th>\n",
       "      <td>Deep Learning</td>\n",
       "      <td>Computer Vision</td>\n",
       "      <td>40</td>\n",
       "      <td>8</td>\n",
       "      <td>2</td>\n",
       "    </tr>\n",
       "    <tr>\n",
       "      <th>9</th>\n",
       "      <td>Digital Forensics</td>\n",
       "      <td>Security Policies</td>\n",
       "      <td>40</td>\n",
       "      <td>9</td>\n",
       "      <td>21</td>\n",
       "    </tr>\n",
       "    <tr>\n",
       "      <th>10</th>\n",
       "      <td>Ethical Hacking</td>\n",
       "      <td>Digital Forensics</td>\n",
       "      <td>40</td>\n",
       "      <td>10</td>\n",
       "      <td>9</td>\n",
       "    </tr>\n",
       "    <tr>\n",
       "      <th>11</th>\n",
       "      <td>Ethics in AI</td>\n",
       "      <td>Artificial Intelligence Capstone 401</td>\n",
       "      <td>40</td>\n",
       "      <td>11</td>\n",
       "      <td>25</td>\n",
       "    </tr>\n",
       "    <tr>\n",
       "      <th>12</th>\n",
       "      <td>Intro to Cybersecurity</td>\n",
       "      <td>Computer Networks</td>\n",
       "      <td>40</td>\n",
       "      <td>12</td>\n",
       "      <td>1</td>\n",
       "    </tr>\n",
       "    <tr>\n",
       "      <th>13</th>\n",
       "      <td>Intro to Python</td>\n",
       "      <td>Probability &amp; Statistics</td>\n",
       "      <td>40</td>\n",
       "      <td>13</td>\n",
       "      <td>19</td>\n",
       "    </tr>\n",
       "    <tr>\n",
       "      <th>14</th>\n",
       "      <td>Intro to Python</td>\n",
       "      <td>Statistics I</td>\n",
       "      <td>40</td>\n",
       "      <td>13</td>\n",
       "      <td>22</td>\n",
       "    </tr>\n",
       "    <tr>\n",
       "      <th>15</th>\n",
       "      <td>Linear Algebra</td>\n",
       "      <td>Data Wrangling</td>\n",
       "      <td>40</td>\n",
       "      <td>14</td>\n",
       "      <td>6</td>\n",
       "    </tr>\n",
       "    <tr>\n",
       "      <th>16</th>\n",
       "      <td>Linear Algebra</td>\n",
       "      <td>Machine Learning</td>\n",
       "      <td>40</td>\n",
       "      <td>14</td>\n",
       "      <td>15</td>\n",
       "    </tr>\n",
       "    <tr>\n",
       "      <th>17</th>\n",
       "      <td>Machine Learning</td>\n",
       "      <td>Big Data Analytics</td>\n",
       "      <td>40</td>\n",
       "      <td>15</td>\n",
       "      <td>0</td>\n",
       "    </tr>\n",
       "    <tr>\n",
       "      <th>18</th>\n",
       "      <td>Machine Learning</td>\n",
       "      <td>Neural Networks</td>\n",
       "      <td>40</td>\n",
       "      <td>15</td>\n",
       "      <td>17</td>\n",
       "    </tr>\n",
       "    <tr>\n",
       "      <th>19</th>\n",
       "      <td>Network Security</td>\n",
       "      <td>System Security</td>\n",
       "      <td>40</td>\n",
       "      <td>16</td>\n",
       "      <td>23</td>\n",
       "    </tr>\n",
       "    <tr>\n",
       "      <th>20</th>\n",
       "      <td>Neural Networks</td>\n",
       "      <td>Deep Learning</td>\n",
       "      <td>40</td>\n",
       "      <td>17</td>\n",
       "      <td>8</td>\n",
       "    </tr>\n",
       "    <tr>\n",
       "      <th>21</th>\n",
       "      <td>Operating Systems</td>\n",
       "      <td>Cryptography</td>\n",
       "      <td>40</td>\n",
       "      <td>18</td>\n",
       "      <td>3</td>\n",
       "    </tr>\n",
       "    <tr>\n",
       "      <th>22</th>\n",
       "      <td>Probability &amp; Statistics</td>\n",
       "      <td>Linear Algebra</td>\n",
       "      <td>40</td>\n",
       "      <td>19</td>\n",
       "      <td>14</td>\n",
       "    </tr>\n",
       "    <tr>\n",
       "      <th>23</th>\n",
       "      <td>Reinforcement Learning</td>\n",
       "      <td>Ethics in AI</td>\n",
       "      <td>40</td>\n",
       "      <td>20</td>\n",
       "      <td>11</td>\n",
       "    </tr>\n",
       "    <tr>\n",
       "      <th>24</th>\n",
       "      <td>Security Policies</td>\n",
       "      <td>Cybersecurity Capstone 401</td>\n",
       "      <td>40</td>\n",
       "      <td>21</td>\n",
       "      <td>26</td>\n",
       "    </tr>\n",
       "    <tr>\n",
       "      <th>25</th>\n",
       "      <td>Statistics I</td>\n",
       "      <td>Linear Algebra</td>\n",
       "      <td>40</td>\n",
       "      <td>22</td>\n",
       "      <td>14</td>\n",
       "    </tr>\n",
       "    <tr>\n",
       "      <th>26</th>\n",
       "      <td>System Security</td>\n",
       "      <td>Ethical Hacking</td>\n",
       "      <td>40</td>\n",
       "      <td>23</td>\n",
       "      <td>10</td>\n",
       "    </tr>\n",
       "  </tbody>\n",
       "</table>\n",
       "</div>"
      ],
      "text/plain": [
       "                First Course                           Next Course  Count  \\\n",
       "0         Big Data Analytics                      Database Systems     40   \n",
       "1          Computer Networks                     Operating Systems     40   \n",
       "2            Computer Vision                Reinforcement Learning     40   \n",
       "3               Cryptography                      Network Security     40   \n",
       "4                Data Mining             Data Science Capstone 401     40   \n",
       "5         Data Visualization                      Machine Learning     40   \n",
       "6             Data Wrangling                    Data Visualization     40   \n",
       "7           Database Systems                           Data Mining     40   \n",
       "8              Deep Learning                       Computer Vision     40   \n",
       "9          Digital Forensics                     Security Policies     40   \n",
       "10           Ethical Hacking                     Digital Forensics     40   \n",
       "11              Ethics in AI  Artificial Intelligence Capstone 401     40   \n",
       "12    Intro to Cybersecurity                     Computer Networks     40   \n",
       "13           Intro to Python              Probability & Statistics     40   \n",
       "14           Intro to Python                          Statistics I     40   \n",
       "15            Linear Algebra                        Data Wrangling     40   \n",
       "16            Linear Algebra                      Machine Learning     40   \n",
       "17          Machine Learning                    Big Data Analytics     40   \n",
       "18          Machine Learning                       Neural Networks     40   \n",
       "19          Network Security                       System Security     40   \n",
       "20           Neural Networks                         Deep Learning     40   \n",
       "21         Operating Systems                          Cryptography     40   \n",
       "22  Probability & Statistics                        Linear Algebra     40   \n",
       "23    Reinforcement Learning                          Ethics in AI     40   \n",
       "24         Security Policies            Cybersecurity Capstone 401     40   \n",
       "25              Statistics I                        Linear Algebra     40   \n",
       "26           System Security                       Ethical Hacking     40   \n",
       "\n",
       "    first_index  next_index  \n",
       "0             0           7  \n",
       "1             1          18  \n",
       "2             2          20  \n",
       "3             3          16  \n",
       "4             4          24  \n",
       "5             5          15  \n",
       "6             6           5  \n",
       "7             7           4  \n",
       "8             8           2  \n",
       "9             9          21  \n",
       "10           10           9  \n",
       "11           11          25  \n",
       "12           12           1  \n",
       "13           13          19  \n",
       "14           13          22  \n",
       "15           14           6  \n",
       "16           14          15  \n",
       "17           15           0  \n",
       "18           15          17  \n",
       "19           16          23  \n",
       "20           17           8  \n",
       "21           18           3  \n",
       "22           19          14  \n",
       "23           20          11  \n",
       "24           21          26  \n",
       "25           22          14  \n",
       "26           23          10  "
      ]
     },
     "execution_count": 118,
     "metadata": {},
     "output_type": "execute_result"
    }
   ],
   "source": [
    "\n",
    "first_courses = transition_count_df['First Course'].tolist()\n",
    "next_courses = transition_count_df['Next Course'].tolist()\n",
    "\n",
    "all_courses = []\n",
    "for course in first_courses + next_courses:\n",
    "    if course not in all_courses:\n",
    "        all_courses.append(course)\n",
    "\n",
    "label_to_index = {}\n",
    "i = 0\n",
    "for course in all_courses:\n",
    "    label_to_index[course] = i\n",
    "    i += 1\n",
    "\n",
    "\n",
    "transition_count_df['first_index'] = transition_count_df['First Course'].map(label_to_index)\n",
    "transition_count_df['next_index'] = transition_count_df['Next Course'].map(label_to_index)\n",
    "\n",
    "#sankey\n",
    "import plotly.graph_objects as go\n",
    "\n",
    "fig = go.Figure(data=[go.Sankey(\n",
    "    node=dict(label=list(label_to_index.keys())),\n",
    "    link=dict(\n",
    "        source=transition_count_df['first_index'],\n",
    "        target=transition_count_df['next_index'],\n",
    "        value=transition_count_df['Count']\n",
    "    )\n",
    ")])\n",
    "\n",
    "fig.show()\n",
    "transition_count_df"
   ]
  },
  {
   "cell_type": "code",
   "execution_count": 121,
   "id": "d0eb6459",
   "metadata": {},
   "outputs": [
    {
     "data": {
      "text/plain": [
       "['Big Data Analytics',\n",
       " 'Computer Networks',\n",
       " 'Computer Vision',\n",
       " 'Cryptography',\n",
       " 'Data Mining',\n",
       " 'Data Visualization',\n",
       " 'Data Wrangling',\n",
       " 'Database Systems',\n",
       " 'Deep Learning',\n",
       " 'Digital Forensics',\n",
       " 'Ethical Hacking',\n",
       " 'Ethics in AI',\n",
       " 'Intro to Cybersecurity',\n",
       " 'Intro to Python',\n",
       " 'Linear Algebra',\n",
       " 'Machine Learning',\n",
       " 'Network Security',\n",
       " 'Neural Networks',\n",
       " 'Operating Systems',\n",
       " 'Probability & Statistics',\n",
       " 'Reinforcement Learning',\n",
       " 'Security Policies',\n",
       " 'Statistics I',\n",
       " 'System Security',\n",
       " 'Data Science Capstone 401',\n",
       " 'Artificial Intelligence Capstone 401',\n",
       " 'Cybersecurity Capstone 401']"
      ]
     },
     "execution_count": 121,
     "metadata": {},
     "output_type": "execute_result"
    }
   ],
   "source": [
    "all_courses"
   ]
  },
  {
   "cell_type": "code",
   "execution_count": null,
   "id": "54466716",
   "metadata": {},
   "outputs": [],
   "source": []
  }
 ],
 "metadata": {
  "kernelspec": {
   "display_name": "base",
   "language": "python",
   "name": "python3"
  },
  "language_info": {
   "codemirror_mode": {
    "name": "ipython",
    "version": 3
   },
   "file_extension": ".py",
   "mimetype": "text/x-python",
   "name": "python",
   "nbconvert_exporter": "python",
   "pygments_lexer": "ipython3",
   "version": "3.11.7"
  }
 },
 "nbformat": 4,
 "nbformat_minor": 5
}
